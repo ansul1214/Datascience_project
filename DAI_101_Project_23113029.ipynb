{
  "nbformat": 4,
  "nbformat_minor": 0,
  "metadata": {
    "colab": {
      "provenance": []
    },
    "kernelspec": {
      "name": "python3",
      "display_name": "Python 3"
    },
    "language_info": {
      "name": "python"
    }
  },
  "cells": [
    {
      "cell_type": "code",
      "execution_count": null,
      "metadata": {
        "id": "2Z8ey61VcH0m"
      },
      "outputs": [],
      "source": [
        "import pandas as pd\n",
        "import numpy as np\n",
        "import matplotlib.pyplot as plt\n",
        "import seaborn as sns\n",
        "import warnings\n"
      ]
    },
    {
      "cell_type": "markdown",
      "source": [
        "Importing The netflix dataset from Kaggle [Dataset Link](https://www.kaggle.com/datasets/rahulvyasm/netflix-movies-and-tv-shows/data)\n"
      ],
      "metadata": {
        "id": "cMR06EKneOXl"
      }
    },
    {
      "cell_type": "code",
      "source": [
        "df=pd.read_csv(\"netflix_titles.csv\",encoding='latin 1')\n",
        "df.info()\n",
        "\n"
      ],
      "metadata": {
        "colab": {
          "base_uri": "https://localhost:8080/"
        },
        "id": "eIpK5yfSeNKD",
        "outputId": "0204171b-6cf1-4030-cd66-5a5f37384710"
      },
      "execution_count": null,
      "outputs": [
        {
          "output_type": "stream",
          "name": "stdout",
          "text": [
            "<class 'pandas.core.frame.DataFrame'>\n",
            "RangeIndex: 8809 entries, 0 to 8808\n",
            "Data columns (total 26 columns):\n",
            " #   Column        Non-Null Count  Dtype  \n",
            "---  ------        --------------  -----  \n",
            " 0   show_id       8809 non-null   object \n",
            " 1   type          8809 non-null   object \n",
            " 2   title         8809 non-null   object \n",
            " 3   director      6175 non-null   object \n",
            " 4   cast          7984 non-null   object \n",
            " 5   country       7978 non-null   object \n",
            " 6   date_added    8799 non-null   object \n",
            " 7   release_year  8809 non-null   int64  \n",
            " 8   rating        8805 non-null   object \n",
            " 9   duration      8806 non-null   object \n",
            " 10  listed_in     8809 non-null   object \n",
            " 11  description   8809 non-null   object \n",
            " 12  Unnamed: 12   0 non-null      float64\n",
            " 13  Unnamed: 13   0 non-null      float64\n",
            " 14  Unnamed: 14   0 non-null      float64\n",
            " 15  Unnamed: 15   0 non-null      float64\n",
            " 16  Unnamed: 16   0 non-null      float64\n",
            " 17  Unnamed: 17   0 non-null      float64\n",
            " 18  Unnamed: 18   0 non-null      float64\n",
            " 19  Unnamed: 19   0 non-null      float64\n",
            " 20  Unnamed: 20   0 non-null      float64\n",
            " 21  Unnamed: 21   0 non-null      float64\n",
            " 22  Unnamed: 22   0 non-null      float64\n",
            " 23  Unnamed: 23   0 non-null      float64\n",
            " 24  Unnamed: 24   0 non-null      float64\n",
            " 25  Unnamed: 25   0 non-null      float64\n",
            "dtypes: float64(14), int64(1), object(11)\n",
            "memory usage: 1.7+ MB\n"
          ]
        }
      ]
    },
    {
      "cell_type": "code",
      "source": [
        "from google.colab import drive\n",
        "drive.mount('/content/drive')"
      ],
      "metadata": {
        "id": "WCzOjstLPaT7"
      },
      "execution_count": null,
      "outputs": []
    },
    {
      "cell_type": "markdown",
      "source": [
        "Above we can see that there are so many unnamed columns with null values so we drop them"
      ],
      "metadata": {
        "id": "4ofvbdCetvA2"
      }
    },
    {
      "cell_type": "code",
      "source": [
        "df.dropna(axis=1,how='all',inplace=True)\n",
        "columns=df.columns\n",
        "print(columns)\n",
        "\n"
      ],
      "metadata": {
        "colab": {
          "base_uri": "https://localhost:8080/"
        },
        "collapsed": true,
        "id": "WJHAYJOJivub",
        "outputId": "dfe9b4d9-5d54-4209-a863-d567195117bb"
      },
      "execution_count": null,
      "outputs": [
        {
          "output_type": "stream",
          "name": "stdout",
          "text": [
            "Index(['show_id', 'type', 'title', 'director', 'cast', 'country', 'date_added',\n",
            "       'release_year', 'rating', 'duration', 'listed_in', 'description'],\n",
            "      dtype='object')\n"
          ]
        }
      ]
    },
    {
      "cell_type": "code",
      "source": [
        "df.shape"
      ],
      "metadata": {
        "id": "DrReyBu2v7Gt",
        "colab": {
          "base_uri": "https://localhost:8080/"
        },
        "outputId": "c15c1075-d590-4bdd-bb1f-b6442e84b93b"
      },
      "execution_count": null,
      "outputs": [
        {
          "output_type": "execute_result",
          "data": {
            "text/plain": [
              "(8809, 12)"
            ]
          },
          "metadata": {},
          "execution_count": 9
        }
      ]
    },
    {
      "cell_type": "code",
      "source": [
        "df.info()"
      ],
      "metadata": {
        "colab": {
          "base_uri": "https://localhost:8080/"
        },
        "id": "amNYQZXFRWcP",
        "outputId": "3b0d2eda-05c0-4411-fd78-92bfcf8be78c"
      },
      "execution_count": null,
      "outputs": [
        {
          "output_type": "stream",
          "name": "stdout",
          "text": [
            "<class 'pandas.core.frame.DataFrame'>\n",
            "RangeIndex: 8809 entries, 0 to 8808\n",
            "Data columns (total 12 columns):\n",
            " #   Column        Non-Null Count  Dtype \n",
            "---  ------        --------------  ----- \n",
            " 0   show_id       8809 non-null   object\n",
            " 1   type          8809 non-null   object\n",
            " 2   title         8809 non-null   object\n",
            " 3   director      6175 non-null   object\n",
            " 4   cast          7984 non-null   object\n",
            " 5   country       7978 non-null   object\n",
            " 6   date_added    8799 non-null   object\n",
            " 7   release_year  8809 non-null   int64 \n",
            " 8   rating        8805 non-null   object\n",
            " 9   duration      8806 non-null   object\n",
            " 10  listed_in     8809 non-null   object\n",
            " 11  description   8809 non-null   object\n",
            "dtypes: int64(1), object(11)\n",
            "memory usage: 826.0+ KB\n"
          ]
        }
      ]
    },
    {
      "cell_type": "markdown",
      "source": [
        "Lets look out how many unique values each column have"
      ],
      "metadata": {
        "id": "b9a6ilgrSKv8"
      }
    },
    {
      "cell_type": "code",
      "source": [
        "df.nunique()"
      ],
      "metadata": {
        "colab": {
          "base_uri": "https://localhost:8080/",
          "height": 460
        },
        "id": "ofpdSJzfSQP5",
        "outputId": "6ceb57fe-d66b-4934-82c0-7466f0d3ec1a"
      },
      "execution_count": null,
      "outputs": [
        {
          "output_type": "execute_result",
          "data": {
            "text/plain": [
              "show_id         8809\n",
              "type               2\n",
              "title           8806\n",
              "director        4529\n",
              "cast            7694\n",
              "country          748\n",
              "date_added      1768\n",
              "release_year      75\n",
              "rating            18\n",
              "duration         220\n",
              "listed_in        516\n",
              "description     8777\n",
              "dtype: int64"
            ],
            "text/html": [
              "<div>\n",
              "<style scoped>\n",
              "    .dataframe tbody tr th:only-of-type {\n",
              "        vertical-align: middle;\n",
              "    }\n",
              "\n",
              "    .dataframe tbody tr th {\n",
              "        vertical-align: top;\n",
              "    }\n",
              "\n",
              "    .dataframe thead th {\n",
              "        text-align: right;\n",
              "    }\n",
              "</style>\n",
              "<table border=\"1\" class=\"dataframe\">\n",
              "  <thead>\n",
              "    <tr style=\"text-align: right;\">\n",
              "      <th></th>\n",
              "      <th>0</th>\n",
              "    </tr>\n",
              "  </thead>\n",
              "  <tbody>\n",
              "    <tr>\n",
              "      <th>show_id</th>\n",
              "      <td>8809</td>\n",
              "    </tr>\n",
              "    <tr>\n",
              "      <th>type</th>\n",
              "      <td>2</td>\n",
              "    </tr>\n",
              "    <tr>\n",
              "      <th>title</th>\n",
              "      <td>8806</td>\n",
              "    </tr>\n",
              "    <tr>\n",
              "      <th>director</th>\n",
              "      <td>4529</td>\n",
              "    </tr>\n",
              "    <tr>\n",
              "      <th>cast</th>\n",
              "      <td>7694</td>\n",
              "    </tr>\n",
              "    <tr>\n",
              "      <th>country</th>\n",
              "      <td>748</td>\n",
              "    </tr>\n",
              "    <tr>\n",
              "      <th>date_added</th>\n",
              "      <td>1768</td>\n",
              "    </tr>\n",
              "    <tr>\n",
              "      <th>release_year</th>\n",
              "      <td>75</td>\n",
              "    </tr>\n",
              "    <tr>\n",
              "      <th>rating</th>\n",
              "      <td>18</td>\n",
              "    </tr>\n",
              "    <tr>\n",
              "      <th>duration</th>\n",
              "      <td>220</td>\n",
              "    </tr>\n",
              "    <tr>\n",
              "      <th>listed_in</th>\n",
              "      <td>516</td>\n",
              "    </tr>\n",
              "    <tr>\n",
              "      <th>description</th>\n",
              "      <td>8777</td>\n",
              "    </tr>\n",
              "  </tbody>\n",
              "</table>\n",
              "</div><br><label><b>dtype:</b> int64</label>"
            ]
          },
          "metadata": {},
          "execution_count": 13
        }
      ]
    },
    {
      "cell_type": "markdown",
      "source": [
        "Here we can see that type is a categorical variable having 2 values:movies and tv shows."
      ],
      "metadata": {
        "id": "ZkrR-bnFSyWM"
      }
    },
    {
      "cell_type": "markdown",
      "source": [
        "**Missing data handling**"
      ],
      "metadata": {
        "id": "B4BZtjhPU1Nv"
      }
    },
    {
      "cell_type": "code",
      "source": [
        "df.isnull().sum()\n",
        "df.isnull().sum()/len(df)*100"
      ],
      "metadata": {
        "colab": {
          "base_uri": "https://localhost:8080/",
          "height": 460
        },
        "id": "2OpIloXgSx9G",
        "outputId": "653a21fd-14af-4f3a-91a1-ae1b5dd6a982"
      },
      "execution_count": null,
      "outputs": [
        {
          "output_type": "execute_result",
          "data": {
            "text/plain": [
              "show_id          0.000000\n",
              "type             0.000000\n",
              "title            0.000000\n",
              "director        29.901237\n",
              "cast             9.365422\n",
              "country          9.433534\n",
              "date_added       0.113520\n",
              "release_year     0.000000\n",
              "rating           0.045408\n",
              "duration         0.034056\n",
              "listed_in        0.000000\n",
              "description      0.000000\n",
              "dtype: float64"
            ],
            "text/html": [
              "<div>\n",
              "<style scoped>\n",
              "    .dataframe tbody tr th:only-of-type {\n",
              "        vertical-align: middle;\n",
              "    }\n",
              "\n",
              "    .dataframe tbody tr th {\n",
              "        vertical-align: top;\n",
              "    }\n",
              "\n",
              "    .dataframe thead th {\n",
              "        text-align: right;\n",
              "    }\n",
              "</style>\n",
              "<table border=\"1\" class=\"dataframe\">\n",
              "  <thead>\n",
              "    <tr style=\"text-align: right;\">\n",
              "      <th></th>\n",
              "      <th>0</th>\n",
              "    </tr>\n",
              "  </thead>\n",
              "  <tbody>\n",
              "    <tr>\n",
              "      <th>show_id</th>\n",
              "      <td>0.000000</td>\n",
              "    </tr>\n",
              "    <tr>\n",
              "      <th>type</th>\n",
              "      <td>0.000000</td>\n",
              "    </tr>\n",
              "    <tr>\n",
              "      <th>title</th>\n",
              "      <td>0.000000</td>\n",
              "    </tr>\n",
              "    <tr>\n",
              "      <th>director</th>\n",
              "      <td>29.901237</td>\n",
              "    </tr>\n",
              "    <tr>\n",
              "      <th>cast</th>\n",
              "      <td>9.365422</td>\n",
              "    </tr>\n",
              "    <tr>\n",
              "      <th>country</th>\n",
              "      <td>9.433534</td>\n",
              "    </tr>\n",
              "    <tr>\n",
              "      <th>date_added</th>\n",
              "      <td>0.113520</td>\n",
              "    </tr>\n",
              "    <tr>\n",
              "      <th>release_year</th>\n",
              "      <td>0.000000</td>\n",
              "    </tr>\n",
              "    <tr>\n",
              "      <th>rating</th>\n",
              "      <td>0.045408</td>\n",
              "    </tr>\n",
              "    <tr>\n",
              "      <th>duration</th>\n",
              "      <td>0.034056</td>\n",
              "    </tr>\n",
              "    <tr>\n",
              "      <th>listed_in</th>\n",
              "      <td>0.000000</td>\n",
              "    </tr>\n",
              "    <tr>\n",
              "      <th>description</th>\n",
              "      <td>0.000000</td>\n",
              "    </tr>\n",
              "  </tbody>\n",
              "</table>\n",
              "</div><br><label><b>dtype:</b> float64</label>"
            ]
          },
          "metadata": {},
          "execution_count": 24
        }
      ]
    },
    {
      "cell_type": "markdown",
      "source": [
        "In the current analysis the column director and cast wont be used in analysis so we can drop them"
      ],
      "metadata": {
        "id": "9kCWx1uSVgAJ"
      }
    },
    {
      "cell_type": "code",
      "source": [
        "netflix=df.copy()\n",
        "netflix.drop(columns=['director','cast'], inplace=True)\n"
      ],
      "metadata": {
        "id": "DY8yl5LNWeue"
      },
      "execution_count": null,
      "outputs": []
    },
    {
      "cell_type": "code",
      "source": [
        "netflix.columns"
      ],
      "metadata": {
        "colab": {
          "base_uri": "https://localhost:8080/"
        },
        "id": "F1WdOrywWin0",
        "outputId": "8119b7ea-5cb1-4a21-ea99-9687901f2da9"
      },
      "execution_count": null,
      "outputs": [
        {
          "output_type": "execute_result",
          "data": {
            "text/plain": [
              "Index(['show_id', 'type', 'title', 'country', 'date_added', 'release_year',\n",
              "       'rating', 'duration', 'listed_in', 'description'],\n",
              "      dtype='object')"
            ]
          },
          "metadata": {},
          "execution_count": 27
        }
      ]
    },
    {
      "cell_type": "markdown",
      "source": [
        "Now for the remaining columns we will fill them with 'missing' to show it in analysis"
      ],
      "metadata": {
        "id": "8UUYpkEAWm4-"
      }
    },
    {
      "cell_type": "code",
      "source": [
        "\n",
        "netflix.fillna({'country':'missing','rating':'missing','duration':'missing'})"
      ],
      "metadata": {
        "colab": {
          "base_uri": "https://localhost:8080/"
        },
        "collapsed": true,
        "id": "X0v-KyD4Wmju",
        "outputId": "0056477b-9f5b-47aa-85cf-21110152c9ae"
      },
      "execution_count": null,
      "outputs": [
        {
          "output_type": "execute_result",
          "data": {
            "text/plain": [
              "     show_id     type                  title        country  \\\n",
              "0         s1    Movie   Dick Johnson Is Dead  United States   \n",
              "1         s2  TV Show          Blood & Water   South Africa   \n",
              "2         s3  TV Show              Ganglands        missing   \n",
              "3         s4  TV Show  Jailbirds New Orleans        missing   \n",
              "4         s5  TV Show           Kota Factory          India   \n",
              "...      ...      ...                    ...            ...   \n",
              "8804   s8805    Movie             Zombieland  United States   \n",
              "8805   s8806    Movie                   Zoom  United States   \n",
              "8806   s8807    Movie                 Zubaan          India   \n",
              "8807   s8808  TV Show     Parasyte: The Grey    South Korea   \n",
              "8808   s8809    Movie                 Serena  United States   \n",
              "\n",
              "              date_added  release_year rating   duration  \\\n",
              "0     September 25, 2021          2020  PG-13     90 min   \n",
              "1     September 24, 2021          2021  TV-MA  2 Seasons   \n",
              "2     September 24, 2021          2021  TV-MA   1 Season   \n",
              "3     September 24, 2021          2021  TV-MA   1 Season   \n",
              "4     September 24, 2021          2021  TV-MA  2 Seasons   \n",
              "...                  ...           ...    ...        ...   \n",
              "8804    November 1, 2019          2009      R     88 min   \n",
              "8805    January 11, 2020          2006     PG     88 min   \n",
              "8806       March 2, 2019          2015  TV-14    111 min   \n",
              "8807       April 5, 2024          2024  TV-MA   1 Season   \n",
              "8808       April 5, 2024          2014      A    110 min   \n",
              "\n",
              "                                              listed_in  \\\n",
              "0                                         Documentaries   \n",
              "1       International TV Shows, TV Dramas, TV Mysteries   \n",
              "2     Crime TV Shows, International TV Shows, TV Act...   \n",
              "3                                Docuseries, Reality TV   \n",
              "4     International TV Shows, Romantic TV Shows, TV ...   \n",
              "...                                                 ...   \n",
              "8804                            Comedies, Horror Movies   \n",
              "8805                 Children & Family Movies, Comedies   \n",
              "8806     Dramas, International Movies, Music & Musicals   \n",
              "8807                             Sci-fi, Horror, Action   \n",
              "8808                           Drama, Romance, Thriller   \n",
              "\n",
              "                                            description  \n",
              "0     As her father nears the end of his life, filmm...  \n",
              "1     After crossing paths at a party, a Cape Town t...  \n",
              "2     To protect his family from a powerful drug lor...  \n",
              "3     Feuds, flirtations and toilet talk go down amo...  \n",
              "4     In a city of coaching centers known to train I...  \n",
              "...                                                 ...  \n",
              "8804  Looking to survive in a world taken over by zo...  \n",
              "8805  Dragged from civilian life, a former superhero...  \n",
              "8806  A scrappy but poor boy worms his way into a ty...  \n",
              "8807  A new breed of parasitic aliens arrive on Eart...  \n",
              "8808  In the 1920s, a newly married couple attempt t...  \n",
              "\n",
              "[8809 rows x 10 columns]"
            ],
            "text/html": [
              "\n",
              "  <div id=\"df-8fa8be95-d02a-4f29-a771-d4c8450f35fa\" class=\"colab-df-container\">\n",
              "    <div>\n",
              "<style scoped>\n",
              "    .dataframe tbody tr th:only-of-type {\n",
              "        vertical-align: middle;\n",
              "    }\n",
              "\n",
              "    .dataframe tbody tr th {\n",
              "        vertical-align: top;\n",
              "    }\n",
              "\n",
              "    .dataframe thead th {\n",
              "        text-align: right;\n",
              "    }\n",
              "</style>\n",
              "<table border=\"1\" class=\"dataframe\">\n",
              "  <thead>\n",
              "    <tr style=\"text-align: right;\">\n",
              "      <th></th>\n",
              "      <th>show_id</th>\n",
              "      <th>type</th>\n",
              "      <th>title</th>\n",
              "      <th>country</th>\n",
              "      <th>date_added</th>\n",
              "      <th>release_year</th>\n",
              "      <th>rating</th>\n",
              "      <th>duration</th>\n",
              "      <th>listed_in</th>\n",
              "      <th>description</th>\n",
              "    </tr>\n",
              "  </thead>\n",
              "  <tbody>\n",
              "    <tr>\n",
              "      <th>0</th>\n",
              "      <td>s1</td>\n",
              "      <td>Movie</td>\n",
              "      <td>Dick Johnson Is Dead</td>\n",
              "      <td>United States</td>\n",
              "      <td>September 25, 2021</td>\n",
              "      <td>2020</td>\n",
              "      <td>PG-13</td>\n",
              "      <td>90 min</td>\n",
              "      <td>Documentaries</td>\n",
              "      <td>As her father nears the end of his life, filmm...</td>\n",
              "    </tr>\n",
              "    <tr>\n",
              "      <th>1</th>\n",
              "      <td>s2</td>\n",
              "      <td>TV Show</td>\n",
              "      <td>Blood &amp; Water</td>\n",
              "      <td>South Africa</td>\n",
              "      <td>September 24, 2021</td>\n",
              "      <td>2021</td>\n",
              "      <td>TV-MA</td>\n",
              "      <td>2 Seasons</td>\n",
              "      <td>International TV Shows, TV Dramas, TV Mysteries</td>\n",
              "      <td>After crossing paths at a party, a Cape Town t...</td>\n",
              "    </tr>\n",
              "    <tr>\n",
              "      <th>2</th>\n",
              "      <td>s3</td>\n",
              "      <td>TV Show</td>\n",
              "      <td>Ganglands</td>\n",
              "      <td>missing</td>\n",
              "      <td>September 24, 2021</td>\n",
              "      <td>2021</td>\n",
              "      <td>TV-MA</td>\n",
              "      <td>1 Season</td>\n",
              "      <td>Crime TV Shows, International TV Shows, TV Act...</td>\n",
              "      <td>To protect his family from a powerful drug lor...</td>\n",
              "    </tr>\n",
              "    <tr>\n",
              "      <th>3</th>\n",
              "      <td>s4</td>\n",
              "      <td>TV Show</td>\n",
              "      <td>Jailbirds New Orleans</td>\n",
              "      <td>missing</td>\n",
              "      <td>September 24, 2021</td>\n",
              "      <td>2021</td>\n",
              "      <td>TV-MA</td>\n",
              "      <td>1 Season</td>\n",
              "      <td>Docuseries, Reality TV</td>\n",
              "      <td>Feuds, flirtations and toilet talk go down amo...</td>\n",
              "    </tr>\n",
              "    <tr>\n",
              "      <th>4</th>\n",
              "      <td>s5</td>\n",
              "      <td>TV Show</td>\n",
              "      <td>Kota Factory</td>\n",
              "      <td>India</td>\n",
              "      <td>September 24, 2021</td>\n",
              "      <td>2021</td>\n",
              "      <td>TV-MA</td>\n",
              "      <td>2 Seasons</td>\n",
              "      <td>International TV Shows, Romantic TV Shows, TV ...</td>\n",
              "      <td>In a city of coaching centers known to train I...</td>\n",
              "    </tr>\n",
              "    <tr>\n",
              "      <th>...</th>\n",
              "      <td>...</td>\n",
              "      <td>...</td>\n",
              "      <td>...</td>\n",
              "      <td>...</td>\n",
              "      <td>...</td>\n",
              "      <td>...</td>\n",
              "      <td>...</td>\n",
              "      <td>...</td>\n",
              "      <td>...</td>\n",
              "      <td>...</td>\n",
              "    </tr>\n",
              "    <tr>\n",
              "      <th>8804</th>\n",
              "      <td>s8805</td>\n",
              "      <td>Movie</td>\n",
              "      <td>Zombieland</td>\n",
              "      <td>United States</td>\n",
              "      <td>November 1, 2019</td>\n",
              "      <td>2009</td>\n",
              "      <td>R</td>\n",
              "      <td>88 min</td>\n",
              "      <td>Comedies, Horror Movies</td>\n",
              "      <td>Looking to survive in a world taken over by zo...</td>\n",
              "    </tr>\n",
              "    <tr>\n",
              "      <th>8805</th>\n",
              "      <td>s8806</td>\n",
              "      <td>Movie</td>\n",
              "      <td>Zoom</td>\n",
              "      <td>United States</td>\n",
              "      <td>January 11, 2020</td>\n",
              "      <td>2006</td>\n",
              "      <td>PG</td>\n",
              "      <td>88 min</td>\n",
              "      <td>Children &amp; Family Movies, Comedies</td>\n",
              "      <td>Dragged from civilian life, a former superhero...</td>\n",
              "    </tr>\n",
              "    <tr>\n",
              "      <th>8806</th>\n",
              "      <td>s8807</td>\n",
              "      <td>Movie</td>\n",
              "      <td>Zubaan</td>\n",
              "      <td>India</td>\n",
              "      <td>March 2, 2019</td>\n",
              "      <td>2015</td>\n",
              "      <td>TV-14</td>\n",
              "      <td>111 min</td>\n",
              "      <td>Dramas, International Movies, Music &amp; Musicals</td>\n",
              "      <td>A scrappy but poor boy worms his way into a ty...</td>\n",
              "    </tr>\n",
              "    <tr>\n",
              "      <th>8807</th>\n",
              "      <td>s8808</td>\n",
              "      <td>TV Show</td>\n",
              "      <td>Parasyte: The Grey</td>\n",
              "      <td>South Korea</td>\n",
              "      <td>April 5, 2024</td>\n",
              "      <td>2024</td>\n",
              "      <td>TV-MA</td>\n",
              "      <td>1 Season</td>\n",
              "      <td>Sci-fi, Horror, Action</td>\n",
              "      <td>A new breed of parasitic aliens arrive on Eart...</td>\n",
              "    </tr>\n",
              "    <tr>\n",
              "      <th>8808</th>\n",
              "      <td>s8809</td>\n",
              "      <td>Movie</td>\n",
              "      <td>Serena</td>\n",
              "      <td>United States</td>\n",
              "      <td>April 5, 2024</td>\n",
              "      <td>2014</td>\n",
              "      <td>A</td>\n",
              "      <td>110 min</td>\n",
              "      <td>Drama, Romance, Thriller</td>\n",
              "      <td>In the 1920s, a newly married couple attempt t...</td>\n",
              "    </tr>\n",
              "  </tbody>\n",
              "</table>\n",
              "<p>8809 rows × 10 columns</p>\n",
              "</div>\n",
              "    <div class=\"colab-df-buttons\">\n",
              "\n",
              "  <div class=\"colab-df-container\">\n",
              "    <button class=\"colab-df-convert\" onclick=\"convertToInteractive('df-8fa8be95-d02a-4f29-a771-d4c8450f35fa')\"\n",
              "            title=\"Convert this dataframe to an interactive table.\"\n",
              "            style=\"display:none;\">\n",
              "\n",
              "  <svg xmlns=\"http://www.w3.org/2000/svg\" height=\"24px\" viewBox=\"0 -960 960 960\">\n",
              "    <path d=\"M120-120v-720h720v720H120Zm60-500h600v-160H180v160Zm220 220h160v-160H400v160Zm0 220h160v-160H400v160ZM180-400h160v-160H180v160Zm440 0h160v-160H620v160ZM180-180h160v-160H180v160Zm440 0h160v-160H620v160Z\"/>\n",
              "  </svg>\n",
              "    </button>\n",
              "\n",
              "  <style>\n",
              "    .colab-df-container {\n",
              "      display:flex;\n",
              "      gap: 12px;\n",
              "    }\n",
              "\n",
              "    .colab-df-convert {\n",
              "      background-color: #E8F0FE;\n",
              "      border: none;\n",
              "      border-radius: 50%;\n",
              "      cursor: pointer;\n",
              "      display: none;\n",
              "      fill: #1967D2;\n",
              "      height: 32px;\n",
              "      padding: 0 0 0 0;\n",
              "      width: 32px;\n",
              "    }\n",
              "\n",
              "    .colab-df-convert:hover {\n",
              "      background-color: #E2EBFA;\n",
              "      box-shadow: 0px 1px 2px rgba(60, 64, 67, 0.3), 0px 1px 3px 1px rgba(60, 64, 67, 0.15);\n",
              "      fill: #174EA6;\n",
              "    }\n",
              "\n",
              "    .colab-df-buttons div {\n",
              "      margin-bottom: 4px;\n",
              "    }\n",
              "\n",
              "    [theme=dark] .colab-df-convert {\n",
              "      background-color: #3B4455;\n",
              "      fill: #D2E3FC;\n",
              "    }\n",
              "\n",
              "    [theme=dark] .colab-df-convert:hover {\n",
              "      background-color: #434B5C;\n",
              "      box-shadow: 0px 1px 3px 1px rgba(0, 0, 0, 0.15);\n",
              "      filter: drop-shadow(0px 1px 2px rgba(0, 0, 0, 0.3));\n",
              "      fill: #FFFFFF;\n",
              "    }\n",
              "  </style>\n",
              "\n",
              "    <script>\n",
              "      const buttonEl =\n",
              "        document.querySelector('#df-8fa8be95-d02a-4f29-a771-d4c8450f35fa button.colab-df-convert');\n",
              "      buttonEl.style.display =\n",
              "        google.colab.kernel.accessAllowed ? 'block' : 'none';\n",
              "\n",
              "      async function convertToInteractive(key) {\n",
              "        const element = document.querySelector('#df-8fa8be95-d02a-4f29-a771-d4c8450f35fa');\n",
              "        const dataTable =\n",
              "          await google.colab.kernel.invokeFunction('convertToInteractive',\n",
              "                                                    [key], {});\n",
              "        if (!dataTable) return;\n",
              "\n",
              "        const docLinkHtml = 'Like what you see? Visit the ' +\n",
              "          '<a target=\"_blank\" href=https://colab.research.google.com/notebooks/data_table.ipynb>data table notebook</a>'\n",
              "          + ' to learn more about interactive tables.';\n",
              "        element.innerHTML = '';\n",
              "        dataTable['output_type'] = 'display_data';\n",
              "        await google.colab.output.renderOutput(dataTable, element);\n",
              "        const docLink = document.createElement('div');\n",
              "        docLink.innerHTML = docLinkHtml;\n",
              "        element.appendChild(docLink);\n",
              "      }\n",
              "    </script>\n",
              "  </div>\n",
              "\n",
              "\n",
              "<div id=\"df-c20ce4af-eff8-4ece-8c89-7672b917945f\">\n",
              "  <button class=\"colab-df-quickchart\" onclick=\"quickchart('df-c20ce4af-eff8-4ece-8c89-7672b917945f')\"\n",
              "            title=\"Suggest charts\"\n",
              "            style=\"display:none;\">\n",
              "\n",
              "<svg xmlns=\"http://www.w3.org/2000/svg\" height=\"24px\"viewBox=\"0 0 24 24\"\n",
              "     width=\"24px\">\n",
              "    <g>\n",
              "        <path d=\"M19 3H5c-1.1 0-2 .9-2 2v14c0 1.1.9 2 2 2h14c1.1 0 2-.9 2-2V5c0-1.1-.9-2-2-2zM9 17H7v-7h2v7zm4 0h-2V7h2v10zm4 0h-2v-4h2v4z\"/>\n",
              "    </g>\n",
              "</svg>\n",
              "  </button>\n",
              "\n",
              "<style>\n",
              "  .colab-df-quickchart {\n",
              "      --bg-color: #E8F0FE;\n",
              "      --fill-color: #1967D2;\n",
              "      --hover-bg-color: #E2EBFA;\n",
              "      --hover-fill-color: #174EA6;\n",
              "      --disabled-fill-color: #AAA;\n",
              "      --disabled-bg-color: #DDD;\n",
              "  }\n",
              "\n",
              "  [theme=dark] .colab-df-quickchart {\n",
              "      --bg-color: #3B4455;\n",
              "      --fill-color: #D2E3FC;\n",
              "      --hover-bg-color: #434B5C;\n",
              "      --hover-fill-color: #FFFFFF;\n",
              "      --disabled-bg-color: #3B4455;\n",
              "      --disabled-fill-color: #666;\n",
              "  }\n",
              "\n",
              "  .colab-df-quickchart {\n",
              "    background-color: var(--bg-color);\n",
              "    border: none;\n",
              "    border-radius: 50%;\n",
              "    cursor: pointer;\n",
              "    display: none;\n",
              "    fill: var(--fill-color);\n",
              "    height: 32px;\n",
              "    padding: 0;\n",
              "    width: 32px;\n",
              "  }\n",
              "\n",
              "  .colab-df-quickchart:hover {\n",
              "    background-color: var(--hover-bg-color);\n",
              "    box-shadow: 0 1px 2px rgba(60, 64, 67, 0.3), 0 1px 3px 1px rgba(60, 64, 67, 0.15);\n",
              "    fill: var(--button-hover-fill-color);\n",
              "  }\n",
              "\n",
              "  .colab-df-quickchart-complete:disabled,\n",
              "  .colab-df-quickchart-complete:disabled:hover {\n",
              "    background-color: var(--disabled-bg-color);\n",
              "    fill: var(--disabled-fill-color);\n",
              "    box-shadow: none;\n",
              "  }\n",
              "\n",
              "  .colab-df-spinner {\n",
              "    border: 2px solid var(--fill-color);\n",
              "    border-color: transparent;\n",
              "    border-bottom-color: var(--fill-color);\n",
              "    animation:\n",
              "      spin 1s steps(1) infinite;\n",
              "  }\n",
              "\n",
              "  @keyframes spin {\n",
              "    0% {\n",
              "      border-color: transparent;\n",
              "      border-bottom-color: var(--fill-color);\n",
              "      border-left-color: var(--fill-color);\n",
              "    }\n",
              "    20% {\n",
              "      border-color: transparent;\n",
              "      border-left-color: var(--fill-color);\n",
              "      border-top-color: var(--fill-color);\n",
              "    }\n",
              "    30% {\n",
              "      border-color: transparent;\n",
              "      border-left-color: var(--fill-color);\n",
              "      border-top-color: var(--fill-color);\n",
              "      border-right-color: var(--fill-color);\n",
              "    }\n",
              "    40% {\n",
              "      border-color: transparent;\n",
              "      border-right-color: var(--fill-color);\n",
              "      border-top-color: var(--fill-color);\n",
              "    }\n",
              "    60% {\n",
              "      border-color: transparent;\n",
              "      border-right-color: var(--fill-color);\n",
              "    }\n",
              "    80% {\n",
              "      border-color: transparent;\n",
              "      border-right-color: var(--fill-color);\n",
              "      border-bottom-color: var(--fill-color);\n",
              "    }\n",
              "    90% {\n",
              "      border-color: transparent;\n",
              "      border-bottom-color: var(--fill-color);\n",
              "    }\n",
              "  }\n",
              "</style>\n",
              "\n",
              "  <script>\n",
              "    async function quickchart(key) {\n",
              "      const quickchartButtonEl =\n",
              "        document.querySelector('#' + key + ' button');\n",
              "      quickchartButtonEl.disabled = true;  // To prevent multiple clicks.\n",
              "      quickchartButtonEl.classList.add('colab-df-spinner');\n",
              "      try {\n",
              "        const charts = await google.colab.kernel.invokeFunction(\n",
              "            'suggestCharts', [key], {});\n",
              "      } catch (error) {\n",
              "        console.error('Error during call to suggestCharts:', error);\n",
              "      }\n",
              "      quickchartButtonEl.classList.remove('colab-df-spinner');\n",
              "      quickchartButtonEl.classList.add('colab-df-quickchart-complete');\n",
              "    }\n",
              "    (() => {\n",
              "      let quickchartButtonEl =\n",
              "        document.querySelector('#df-c20ce4af-eff8-4ece-8c89-7672b917945f button');\n",
              "      quickchartButtonEl.style.display =\n",
              "        google.colab.kernel.accessAllowed ? 'block' : 'none';\n",
              "    })();\n",
              "  </script>\n",
              "</div>\n",
              "\n",
              "    </div>\n",
              "  </div>\n"
            ],
            "application/vnd.google.colaboratory.intrinsic+json": {
              "type": "dataframe",
              "summary": "{\n  \"name\": \"netflix\",\n  \"rows\": 8809,\n  \"fields\": [\n    {\n      \"column\": \"show_id\",\n      \"properties\": {\n        \"dtype\": \"string\",\n        \"num_unique_values\": 8809,\n        \"samples\": [\n          \"s4973\",\n          \"s3366\",\n          \"s4504\"\n        ],\n        \"semantic_type\": \"\",\n        \"description\": \"\"\n      }\n    },\n    {\n      \"column\": \"type\",\n      \"properties\": {\n        \"dtype\": \"category\",\n        \"num_unique_values\": 2,\n        \"samples\": [\n          \"TV Show\",\n          \"Movie\"\n        ],\n        \"semantic_type\": \"\",\n        \"description\": \"\"\n      }\n    },\n    {\n      \"column\": \"title\",\n      \"properties\": {\n        \"dtype\": \"string\",\n        \"num_unique_values\": 8806,\n        \"samples\": [\n          \"BoJack Horseman Christmas Special: Sabrina's Christmas Wish\",\n          \"Black Mirror: Bandersnatch\"\n        ],\n        \"semantic_type\": \"\",\n        \"description\": \"\"\n      }\n    },\n    {\n      \"column\": \"country\",\n      \"properties\": {\n        \"dtype\": \"category\",\n        \"num_unique_values\": 749,\n        \"samples\": [\n          \"United States, United Kingdom, Denmark, Sweden\",\n          \"Spain, France\"\n        ],\n        \"semantic_type\": \"\",\n        \"description\": \"\"\n      }\n    },\n    {\n      \"column\": \"date_added\",\n      \"properties\": {\n        \"dtype\": \"category\",\n        \"num_unique_values\": 1768,\n        \"samples\": [\n          \"June 26, 2018\",\n          \"November 17, 2020\"\n        ],\n        \"semantic_type\": \"\",\n        \"description\": \"\"\n      }\n    },\n    {\n      \"column\": \"release_year\",\n      \"properties\": {\n        \"dtype\": \"number\",\n        \"std\": 8,\n        \"min\": 1925,\n        \"max\": 2024,\n        \"num_unique_values\": 75,\n        \"samples\": [\n          1996,\n          1969\n        ],\n        \"semantic_type\": \"\",\n        \"description\": \"\"\n      }\n    },\n    {\n      \"column\": \"rating\",\n      \"properties\": {\n        \"dtype\": \"category\",\n        \"num_unique_values\": 19,\n        \"samples\": [\n          \"PG-13\",\n          \"TV-Y\"\n        ],\n        \"semantic_type\": \"\",\n        \"description\": \"\"\n      }\n    },\n    {\n      \"column\": \"duration\",\n      \"properties\": {\n        \"dtype\": \"category\",\n        \"num_unique_values\": 221,\n        \"samples\": [\n          \"37 min\",\n          \"177 min\"\n        ],\n        \"semantic_type\": \"\",\n        \"description\": \"\"\n      }\n    },\n    {\n      \"column\": \"listed_in\",\n      \"properties\": {\n        \"dtype\": \"category\",\n        \"num_unique_values\": 516,\n        \"samples\": [\n          \"Crime TV Shows, International TV Shows, TV Mysteries\",\n          \"Dramas, Horror Movies, Music & Musicals\"\n        ],\n        \"semantic_type\": \"\",\n        \"description\": \"\"\n      }\n    },\n    {\n      \"column\": \"description\",\n      \"properties\": {\n        \"dtype\": \"string\",\n        \"num_unique_values\": 8777,\n        \"samples\": [\n          \"When an aspiring actress hits it big thanks to a candid Instagram post, the lives of several Tokyo women cross as they struggle to define happiness IRL.\",\n          \"When a local musician and his band are forced to perform in honor of a right-wing coup, his daughter schemes to make their music subversive instead.\"\n        ],\n        \"semantic_type\": \"\",\n        \"description\": \"\"\n      }\n    }\n  ]\n}"
            }
          },
          "metadata": {},
          "execution_count": 28
        }
      ]
    },
    {
      "cell_type": "markdown",
      "source": [
        "Checking for duplicates"
      ],
      "metadata": {
        "id": "hMKwXWv8YzBd"
      }
    },
    {
      "cell_type": "code",
      "source": [
        "netflix.duplicated().sum()"
      ],
      "metadata": {
        "colab": {
          "base_uri": "https://localhost:8080/"
        },
        "id": "wFCXachEYs9M",
        "outputId": "77b8b36a-30d9-460a-93b8-87a24d89efff"
      },
      "execution_count": null,
      "outputs": [
        {
          "output_type": "execute_result",
          "data": {
            "text/plain": [
              "0"
            ]
          },
          "metadata": {},
          "execution_count": 31
        }
      ]
    },
    {
      "cell_type": "markdown",
      "source": [
        "No duplicate rows"
      ],
      "metadata": {
        "id": "kQ26NxYsY_xR"
      }
    },
    {
      "cell_type": "code",
      "source": [
        "plt.figure(figsize=(10, 6))  # Set the figure size\n",
        "plt.boxplot(df['release_year'], vert=False)\n",
        "plt.title('Box Plot of Release year')\n",
        "plt.xlabel('Duration (minutes)')  # Set the x-axis label\n",
        "plt.show()  # Display the plot"
      ],
      "metadata": {
        "colab": {
          "base_uri": "https://localhost:8080/",
          "height": 564
        },
        "id": "mrte17cedJmC",
        "outputId": "79bd9af8-4f28-4734-b5a6-2b7b0eb5dc1b"
      },
      "execution_count": null,
      "outputs": [
        {
          "output_type": "display_data",
          "data": {
            "text/plain": [
              "<Figure size 1000x600 with 1 Axes>"
            ],
            "image/png": "[encoded data removed]"
          },
          "metadata": {}
        }
      ]
    },
    {
      "cell_type": "code",
      "source": [
        "def find_outliers_iqr(data):\n",
        "    Q1 = data.quantile(0.25)\n",
        "    Q3 = data.quantile(0.75)\n",
        "    IQR = Q3 - Q1\n",
        "    lower_bound = Q1 - 1.5 * IQR\n",
        "    upper_bound = Q3 + 1.5 * IQR\n",
        "    return netflix[(data < lower_bound) | (data > upper_bound)]\n",
        "release_year_outliers = find_outliers_iqr(netflix['release_year'])\n",
        "print(release_year_outliers.count())\n",
        "# Convert 'release_year' column to numeric, handling errors\n",
        "release_year_outliers.loc[:,'release_year'] = pd.to_numeric(release_year_outliers['release_year'], errors='coerce')\n"
      ],
      "metadata": {
        "colab": {
          "base_uri": "https://localhost:8080/"
        },
        "collapsed": true,
        "id": "ESK8O1GfgddR",
        "outputId": "dfd64ad4-75bf-44f7-b3e4-4870a17f6af6"
      },
      "execution_count": null,
      "outputs": [
        {
          "output_type": "stream",
          "name": "stdout",
          "text": [
            "show_id         719\n",
            "type            719\n",
            "title           719\n",
            "director        642\n",
            "cast            700\n",
            "country         691\n",
            "date_added      717\n",
            "release_year    719\n",
            "rating          719\n",
            "duration        719\n",
            "listed_in       719\n",
            "description     719\n",
            "dtype: int64\n"
          ]
        }
      ]
    },
    {
      "cell_type": "markdown",
      "source": [
        "Here there are lot of outliers in mathematical sense but ideally they need not be outliers so inorder to judge we see how many movies and tv shows were released in these years and plot a bar graph"
      ],
      "metadata": {
        "id": "PWEm8y1PjOEO"
      }
    },
    {
      "cell_type": "markdown",
      "source": [
        "It can be seen that very movies where released when compared to the data after so we can drop the outliers"
      ],
      "metadata": {
        "id": "8M-r-_8PnP6c"
      }
    },
    {
      "cell_type": "code",
      "source": [
        "def drop_outliers_iqr(data):\n",
        "    Q1 = data.quantile(0.25)  # 25th percentile\n",
        "    Q3 = data.quantile(0.75)  # 75th percentile\n",
        "    IQR = Q3 - Q1  # Interquartile Range\n",
        "    lower_bound = Q1 - 1.5 * IQR  # Lower bound for outliers\n",
        "    upper_bound = Q3 + 1.5 * IQR  # Upper bound for outliers\n",
        "    return data[(data >= lower_bound) & (data <= upper_bound)]  # Filter data\n",
        "  # Drop outliers for Release Year\n",
        "netflix.loc[:,'release_year'] = drop_outliers_iqr(netflix['release_year']).astype(int)\n",
        "\n",
        "# Remove rows with NaN values generated from outlier removal\n",
        "netflix = netflix.dropna(subset=['release_year'])\n",
        "\n",
        "# Display the cleaned DataFrame\n",
        "print(\"DataFrame after dropping outliers:\")\n",
        "netflix.info()\n",
        "\n"
      ],
      "metadata": {
        "colab": {
          "base_uri": "https://localhost:8080/"
        },
        "id": "i-diGj8Ln6Nj",
        "outputId": "d6237451-01b7-491b-82e8-10ca7bc79342"
      },
      "execution_count": null,
      "outputs": [
        {
          "output_type": "stream",
          "name": "stdout",
          "text": [
            "DataFrame after dropping outliers:\n",
            "<class 'pandas.core.frame.DataFrame'>\n",
            "Index: 8090 entries, 0 to 8808\n",
            "Data columns (total 12 columns):\n",
            " #   Column        Non-Null Count  Dtype  \n",
            "---  ------        --------------  -----  \n",
            " 0   show_id       8090 non-null   object \n",
            " 1   type          8090 non-null   object \n",
            " 2   title         8090 non-null   object \n",
            " 3   director      5533 non-null   object \n",
            " 4   cast          7284 non-null   object \n",
            " 5   country       7287 non-null   object \n",
            " 6   date_added    8082 non-null   object \n",
            " 7   release_year  8090 non-null   float64\n",
            " 8   rating        8086 non-null   object \n",
            " 9   duration      8087 non-null   object \n",
            " 10  listed_in     8090 non-null   object \n",
            " 11  description   8090 non-null   object \n",
            "dtypes: float64(1), object(11)\n",
            "memory usage: 821.6+ KB\n"
          ]
        },
        {
          "output_type": "stream",
          "name": "stderr",
          "text": [
            "<ipython-input-72-1cb02e61a067>:9: FutureWarning: Setting an item of incompatible dtype is deprecated and will raise in a future error of pandas. Value '[2020. 2021. 2021. ... 2015. 2024. 2014.]' has dtype incompatible with int64, please explicitly cast to a compatible dtype first.\n",
            "  netflix.loc[:,'release_year'] = drop_outliers_iqr(netflix['release_year']).astype(int)\n"
          ]
        }
      ]
    },
    {
      "cell_type": "markdown",
      "source": [
        "The bar graph shows the increase in demand of shows in the entertainment industry"
      ],
      "metadata": {
        "id": "h8fKXXF3zmxr"
      }
    },
    {
      "cell_type": "code",
      "source": [
        "release_counts = netflix['release_year'].value_counts().sort_index()\n",
        "\n",
        "\n",
        "plt.figure(figsize=(12, 6))  # Set the figure size\n",
        "release_counts.plot(kind='bar', color='skyblue')  # Create bar graph\n",
        "plt.title('Number of Movies/Shows Released by Year')  # Add title\n",
        "plt.xlabel('Release Year')  # Label for x-axis\n",
        "plt.ylabel('Count of Movies/Shows')  # Label for y-axis\n",
        "plt.xticks(rotation=90)  # Rotate x-axis labels for better visibility\n",
        "plt.grid(axis='y')  # Add grid lines for better readability\n",
        "plt.tight_layout()  # Adjust layout to prevent clipping of labels\n",
        "plt.show()  # Display the plot"
      ],
      "metadata": {
        "colab": {
          "base_uri": "https://localhost:8080/",
          "height": 607
        },
        "id": "XlUBtVndjNhd",
        "outputId": "9c501475-c039-4aaa-bd6f-a8ab0a2de9ba"
      },
      "execution_count": null,
      "outputs": [
        {
          "output_type": "display_data",
          "data": {
            "text/plain": [
              "<Figure size 1200x600 with 1 Axes>"
            ],
            "image/png": "[encoded data removed]"
          },
          "metadata": {}
        }
      ]
    },
    {
      "cell_type": "markdown",
      "source": [
        "The date it was added is object type it should be converted into"
      ],
      "metadata": {
        "id": "yEglXWAE0CHy"
      }
    },
    {
      "cell_type": "code",
      "source": [
        "netflix.type.value_counts()"
      ],
      "metadata": {
        "colab": {
          "base_uri": "https://localhost:8080/",
          "height": 178
        },
        "id": "aOxaGhUDMO77",
        "outputId": "bfcf01e5-4ac5-44eb-ee17-3e15577f76b1"
      },
      "execution_count": null,
      "outputs": [
        {
          "output_type": "execute_result",
          "data": {
            "text/plain": [
              "type\n",
              "Movie      5488\n",
              "TV Show    2602\n",
              "Name: count, dtype: int64"
            ],
            "text/html": [
              "<div>\n",
              "<style scoped>\n",
              "    .dataframe tbody tr th:only-of-type {\n",
              "        vertical-align: middle;\n",
              "    }\n",
              "\n",
              "    .dataframe tbody tr th {\n",
              "        vertical-align: top;\n",
              "    }\n",
              "\n",
              "    .dataframe thead th {\n",
              "        text-align: right;\n",
              "    }\n",
              "</style>\n",
              "<table border=\"1\" class=\"dataframe\">\n",
              "  <thead>\n",
              "    <tr style=\"text-align: right;\">\n",
              "      <th></th>\n",
              "      <th>count</th>\n",
              "    </tr>\n",
              "    <tr>\n",
              "      <th>type</th>\n",
              "      <th></th>\n",
              "    </tr>\n",
              "  </thead>\n",
              "  <tbody>\n",
              "    <tr>\n",
              "      <th>Movie</th>\n",
              "      <td>5488</td>\n",
              "    </tr>\n",
              "    <tr>\n",
              "      <th>TV Show</th>\n",
              "      <td>2602</td>\n",
              "    </tr>\n",
              "  </tbody>\n",
              "</table>\n",
              "</div><br><label><b>dtype:</b> int64</label>"
            ]
          },
          "metadata": {},
          "execution_count": 76
        }
      ]
    },
    {
      "cell_type": "markdown",
      "source": [
        "**Converting date_added from object datatype to date and time**"
      ],
      "metadata": {
        "id": "lU1KvBXkN3GC"
      }
    },
    {
      "cell_type": "code",
      "source": [
        "netflix['date_added']=pd.to_datetime(netflix['date_added'],errors='coerce')\n",
        "netflix['year_added'] = netflix[\"date_added\"].dt.year\n",
        "netflix['month_added'] = netflix[\"date_added\"].dt.month\n"
      ],
      "metadata": {
        "id": "uzx0eIJ_NOAN"
      },
      "execution_count": null,
      "outputs": []
    },
    {
      "cell_type": "code",
      "source": [
        "netflix.dtypes"
      ],
      "metadata": {
        "colab": {
          "base_uri": "https://localhost:8080/",
          "height": 523
        },
        "id": "_TDT6lVZRdZ8",
        "outputId": "dc24e722-8a5d-485d-a956-7e14a0c052c9"
      },
      "execution_count": null,
      "outputs": [
        {
          "output_type": "execute_result",
          "data": {
            "text/plain": [
              "show_id                 object\n",
              "type                    object\n",
              "title                   object\n",
              "director                object\n",
              "cast                    object\n",
              "country                 object\n",
              "date_added      datetime64[ns]\n",
              "release_year           float64\n",
              "rating                  object\n",
              "duration                object\n",
              "listed_in               object\n",
              "description             object\n",
              "year_added             float64\n",
              "month_added            float64\n",
              "dtype: object"
            ],
            "text/html": [
              "<div>\n",
              "<style scoped>\n",
              "    .dataframe tbody tr th:only-of-type {\n",
              "        vertical-align: middle;\n",
              "    }\n",
              "\n",
              "    .dataframe tbody tr th {\n",
              "        vertical-align: top;\n",
              "    }\n",
              "\n",
              "    .dataframe thead th {\n",
              "        text-align: right;\n",
              "    }\n",
              "</style>\n",
              "<table border=\"1\" class=\"dataframe\">\n",
              "  <thead>\n",
              "    <tr style=\"text-align: right;\">\n",
              "      <th></th>\n",
              "      <th>0</th>\n",
              "    </tr>\n",
              "  </thead>\n",
              "  <tbody>\n",
              "    <tr>\n",
              "      <th>show_id</th>\n",
              "      <td>object</td>\n",
              "    </tr>\n",
              "    <tr>\n",
              "      <th>type</th>\n",
              "      <td>object</td>\n",
              "    </tr>\n",
              "    <tr>\n",
              "      <th>title</th>\n",
              "      <td>object</td>\n",
              "    </tr>\n",
              "    <tr>\n",
              "      <th>director</th>\n",
              "      <td>object</td>\n",
              "    </tr>\n",
              "    <tr>\n",
              "      <th>cast</th>\n",
              "      <td>object</td>\n",
              "    </tr>\n",
              "    <tr>\n",
              "      <th>country</th>\n",
              "      <td>object</td>\n",
              "    </tr>\n",
              "    <tr>\n",
              "      <th>date_added</th>\n",
              "      <td>datetime64[ns]</td>\n",
              "    </tr>\n",
              "    <tr>\n",
              "      <th>release_year</th>\n",
              "      <td>float64</td>\n",
              "    </tr>\n",
              "    <tr>\n",
              "      <th>rating</th>\n",
              "      <td>object</td>\n",
              "    </tr>\n",
              "    <tr>\n",
              "      <th>duration</th>\n",
              "      <td>object</td>\n",
              "    </tr>\n",
              "    <tr>\n",
              "      <th>listed_in</th>\n",
              "      <td>object</td>\n",
              "    </tr>\n",
              "    <tr>\n",
              "      <th>description</th>\n",
              "      <td>object</td>\n",
              "    </tr>\n",
              "    <tr>\n",
              "      <th>year_added</th>\n",
              "      <td>float64</td>\n",
              "    </tr>\n",
              "    <tr>\n",
              "      <th>month_added</th>\n",
              "      <td>float64</td>\n",
              "    </tr>\n",
              "  </tbody>\n",
              "</table>\n",
              "</div><br><label><b>dtype:</b> object</label>"
            ]
          },
          "metadata": {},
          "execution_count": 83
        }
      ]
    },
    {
      "cell_type": "code",
      "source": [
        "sub_set=netflix[['release_year','year_added','month_added']]\n",
        "correlation_matrix = sub_set.corr()\n",
        "plt.figure(figsize=(8, 6))\n",
        "sns.heatmap(correlation_matrix, annot=True, cmap='coolwarm', fmt=\".2f\")\n",
        "plt.title('Correlation Heatmap')\n",
        "plt.show()"
      ],
      "metadata": {
        "colab": {
          "base_uri": "https://localhost:8080/",
          "height": 545
        },
        "id": "1jJ_xlDuR82Q",
        "outputId": "8bb7698b-3fee-40c4-c7cb-57598e71fadf"
      },
      "execution_count": null,
      "outputs": [
        {
          "output_type": "display_data",
          "data": {
            "text/plain": [
              "<Figure size 800x600 with 2 Axes>"
            ],
            "image/png": "[encoded data removed]"
          },
          "metadata": {}
        }
      ]
    },
    {
      "cell_type": "markdown",
      "source": [
        "Obeservation : Above Heatmap shows correlation between release_year,year_added & month_added.\n",
        "\n"
      ],
      "metadata": {
        "id": "f7saMyuwWhWh"
      }
    },
    {
      "cell_type": "code",
      "source": [
        "sns.countplot(x=netflix['type'],orient='v')\n",
        "plt.xticks(rotation=90)"
      ],
      "metadata": {
        "colab": {
          "base_uri": "https://localhost:8080/",
          "height": 512
        },
        "id": "D4fFDgK9ZulX",
        "outputId": "e5016edb-87cb-48b4-af79-8e39b7e4be38"
      },
      "execution_count": null,
      "outputs": [
        {
          "output_type": "execute_result",
          "data": {
            "text/plain": [
              "([0, 1], [Text(0, 0, 'Movie'), Text(1, 0, 'TV Show')])"
            ]
          },
          "metadata": {},
          "execution_count": 97
        },
        {
          "output_type": "display_data",
          "data": {
            "text/plain": [
              "<Figure size 640x480 with 1 Axes>"
            ],
            "image/png": "[encoded data removed]"
          },
          "metadata": {}
        }
      ]
    },
    {
      "cell_type": "code",
      "source": [
        "# by using Pie chart\n",
        "type_show = ['Movie','TV Show']\n",
        "Value_count = [5488,2602]\n",
        "plt.pie(Value_count,labels=type_show,autopct=\"%2.2f%%\")\n",
        "plt.legend(title='Most watched shows on the Netflix')"
      ],
      "metadata": {
        "colab": {
          "base_uri": "https://localhost:8080/",
          "height": 423
        },
        "id": "aJmVXKxfZ0-2",
        "outputId": "c451d8d8-5739-4682-8519-5bfe9f3e7a08"
      },
      "execution_count": null,
      "outputs": [
        {
          "output_type": "execute_result",
          "data": {
            "text/plain": [
              "<matplotlib.legend.Legend at 0x7ca07de52680>"
            ]
          },
          "metadata": {},
          "execution_count": 98
        },
        {
          "output_type": "display_data",
          "data": {
            "text/plain": [
              "<Figure size 640x480 with 1 Axes>"
            ],
            "image/png": "[encoded data removed]"
          },
          "metadata": {}
        }
      ]
    },
    {
      "cell_type": "code",
      "source": [
        "sns.countplot(x=netflix['rating'],orient='v')\n",
        "plt.xticks(rotation=90)"
      ],
      "metadata": {
        "colab": {
          "base_uri": "https://localhost:8080/",
          "height": 825
        },
        "id": "Wv1agj2qbTS6",
        "outputId": "f7d11927-e454-4bf6-d040-203670b46db9"
      },
      "execution_count": null,
      "outputs": [
        {
          "output_type": "execute_result",
          "data": {
            "text/plain": [
              "([0, 1, 2, 3, 4, 5, 6, 7, 8, 9, 10, 11, 12, 13, 14, 15, 16, 17],\n",
              " [Text(0, 0, 'PG-13'),\n",
              "  Text(1, 0, 'TV-MA'),\n",
              "  Text(2, 0, 'PG'),\n",
              "  Text(3, 0, 'TV-14'),\n",
              "  Text(4, 0, 'TV-PG'),\n",
              "  Text(5, 0, 'TV-Y'),\n",
              "  Text(6, 0, 'TV-Y7'),\n",
              "  Text(7, 0, 'R'),\n",
              "  Text(8, 0, 'TV-G'),\n",
              "  Text(9, 0, 'G'),\n",
              "  Text(10, 0, 'NC-17'),\n",
              "  Text(11, 0, '74 min'),\n",
              "  Text(12, 0, '84 min'),\n",
              "  Text(13, 0, '66 min'),\n",
              "  Text(14, 0, 'NR'),\n",
              "  Text(15, 0, 'TV-Y7-FV'),\n",
              "  Text(16, 0, 'UR'),\n",
              "  Text(17, 0, 'A')])"
            ]
          },
          "metadata": {},
          "execution_count": 100
        },
        {
          "output_type": "display_data",
          "data": {
            "text/plain": [
              "<Figure size 640x480 with 1 Axes>"
            ],
            "image/png": "[encoded data removed]"
          },
          "metadata": {}
        }
      ]
    },
    {
      "cell_type": "markdown",
      "source": [
        "Obeservation :\n",
        "\n",
        "Audience prefers mostly TV-MA & TV-14 and less prefers NC-17 as rating.\n",
        "There are 17 types of ratings in the netflix."
      ],
      "metadata": {
        "id": "kbe5To71bYCx"
      }
    },
    {
      "cell_type": "code",
      "source": [
        "netflix['rating'].nunique()\n"
      ],
      "metadata": {
        "colab": {
          "base_uri": "https://localhost:8080/"
        },
        "id": "fT6yMqcEbbuj",
        "outputId": "68177445-5502-423d-fead-a869fdf9d172"
      },
      "execution_count": null,
      "outputs": [
        {
          "output_type": "execute_result",
          "data": {
            "text/plain": [
              "18"
            ]
          },
          "metadata": {},
          "execution_count": 101
        }
      ]
    },
    {
      "cell_type": "markdown",
      "source": [
        "Which has the highest rating Tv show or Movies?"
      ],
      "metadata": {
        "id": "kaZkY30Ybqxa"
      }
    },
    {
      "cell_type": "code",
      "source": [
        "netflix.groupby(\"type\")[\"rating\"].agg(pd.Series.mode)\n"
      ],
      "metadata": {
        "colab": {
          "base_uri": "https://localhost:8080/",
          "height": 178
        },
        "id": "jsVHORKDbsGf",
        "outputId": "215c5d65-91fa-437d-aa54-07ca6ff6ed62"
      },
      "execution_count": null,
      "outputs": [
        {
          "output_type": "execute_result",
          "data": {
            "text/plain": [
              "type\n",
              "Movie      TV-MA\n",
              "TV Show    TV-MA\n",
              "Name: rating, dtype: object"
            ],
            "text/html": [
              "<div>\n",
              "<style scoped>\n",
              "    .dataframe tbody tr th:only-of-type {\n",
              "        vertical-align: middle;\n",
              "    }\n",
              "\n",
              "    .dataframe tbody tr th {\n",
              "        vertical-align: top;\n",
              "    }\n",
              "\n",
              "    .dataframe thead th {\n",
              "        text-align: right;\n",
              "    }\n",
              "</style>\n",
              "<table border=\"1\" class=\"dataframe\">\n",
              "  <thead>\n",
              "    <tr style=\"text-align: right;\">\n",
              "      <th></th>\n",
              "      <th>rating</th>\n",
              "    </tr>\n",
              "    <tr>\n",
              "      <th>type</th>\n",
              "      <th></th>\n",
              "    </tr>\n",
              "  </thead>\n",
              "  <tbody>\n",
              "    <tr>\n",
              "      <th>Movie</th>\n",
              "      <td>TV-MA</td>\n",
              "    </tr>\n",
              "    <tr>\n",
              "      <th>TV Show</th>\n",
              "      <td>TV-MA</td>\n",
              "    </tr>\n",
              "  </tbody>\n",
              "</table>\n",
              "</div><br><label><b>dtype:</b> object</label>"
            ]
          },
          "metadata": {},
          "execution_count": 102
        }
      ]
    },
    {
      "cell_type": "code",
      "source": [
        "\n",
        "\n",
        "# Assuming 'netflix' is your DataFrame and 'listed_in' is the column containing the genres\n",
        "\n",
        "# Step 1: Split the 'listed_in' column by commas, then explode it to get individual genre entries\n",
        "netflix['genres'] = netflix['listed_in'].str.split(', ')  # Split the genres\n",
        "genres_exploded = netflix.explode('genres')  # Expand the lists into separate rows\n",
        "\n",
        "# Step 2: Count the occurrences of each genre\n",
        "genre_counts = genres_exploded['genres'].value_counts()\n",
        "\n",
        "# Step 3: Plot the genre counts as a bar chart\n",
        "plt.figure(figsize=(12, 6))\n",
        "genre_counts.plot(kind='bar', color='skyblue')\n",
        "\n",
        "# Customize the plot\n",
        "plt.title('Distribution of Genres in Netflix Dataset')\n",
        "plt.xlabel('Genres')\n",
        "plt.ylabel('Count')\n",
        "plt.xticks(rotation=45, ha='right')\n",
        "plt.tight_layout()\n",
        "\n",
        "# Display the plot\n",
        "plt.show()\n"
      ],
      "metadata": {
        "colab": {
          "base_uri": "https://localhost:8080/",
          "height": 607
        },
        "id": "ORpkIq9fc13W",
        "outputId": "91b7cd9c-5795-4be6-dee4-c40057161ffe"
      },
      "execution_count": null,
      "outputs": [
        {
          "output_type": "display_data",
          "data": {
            "text/plain": [
              "<Figure size 1200x600 with 1 Axes>"
            ],
            "image/png": "[encoded data removed]"
          },
          "metadata": {}
        }
      ]
    },
    {
      "cell_type": "code",
      "source": [
        "new_genre = netflix['listed_in'].str.split(\",\",n=2)\n",
        "new_genre"
      ],
      "metadata": {
        "colab": {
          "base_uri": "https://localhost:8080/",
          "height": 458
        },
        "id": "qmqkL0mKfP5q",
        "outputId": "b136ee20-874f-44de-d9f4-2202b3f9dfbc"
      },
      "execution_count": null,
      "outputs": [
        {
          "output_type": "execute_result",
          "data": {
            "text/plain": [
              "0                                         [Documentaries]\n",
              "1       [International TV Shows,  TV Dramas,  TV Myste...\n",
              "2       [Crime TV Shows,  International TV Shows,  TV ...\n",
              "3                               [Docuseries,  Reality TV]\n",
              "4       [International TV Shows,  Romantic TV Shows,  ...\n",
              "                              ...                        \n",
              "8804                           [Comedies,  Horror Movies]\n",
              "8805                [Children & Family Movies,  Comedies]\n",
              "8806    [Dramas,  International Movies,  Music & Music...\n",
              "8807                           [Sci-fi,  Horror,  Action]\n",
              "8808                         [Drama,  Romance,  Thriller]\n",
              "Name: listed_in, Length: 8090, dtype: object"
            ],
            "text/html": [
              "<div>\n",
              "<style scoped>\n",
              "    .dataframe tbody tr th:only-of-type {\n",
              "        vertical-align: middle;\n",
              "    }\n",
              "\n",
              "    .dataframe tbody tr th {\n",
              "        vertical-align: top;\n",
              "    }\n",
              "\n",
              "    .dataframe thead th {\n",
              "        text-align: right;\n",
              "    }\n",
              "</style>\n",
              "<table border=\"1\" class=\"dataframe\">\n",
              "  <thead>\n",
              "    <tr style=\"text-align: right;\">\n",
              "      <th></th>\n",
              "      <th>listed_in</th>\n",
              "    </tr>\n",
              "  </thead>\n",
              "  <tbody>\n",
              "    <tr>\n",
              "      <th>0</th>\n",
              "      <td>[Documentaries]</td>\n",
              "    </tr>\n",
              "    <tr>\n",
              "      <th>1</th>\n",
              "      <td>[International TV Shows,  TV Dramas,  TV Myste...</td>\n",
              "    </tr>\n",
              "    <tr>\n",
              "      <th>2</th>\n",
              "      <td>[Crime TV Shows,  International TV Shows,  TV ...</td>\n",
              "    </tr>\n",
              "    <tr>\n",
              "      <th>3</th>\n",
              "      <td>[Docuseries,  Reality TV]</td>\n",
              "    </tr>\n",
              "    <tr>\n",
              "      <th>4</th>\n",
              "      <td>[International TV Shows,  Romantic TV Shows,  ...</td>\n",
              "    </tr>\n",
              "    <tr>\n",
              "      <th>...</th>\n",
              "      <td>...</td>\n",
              "    </tr>\n",
              "    <tr>\n",
              "      <th>8804</th>\n",
              "      <td>[Comedies,  Horror Movies]</td>\n",
              "    </tr>\n",
              "    <tr>\n",
              "      <th>8805</th>\n",
              "      <td>[Children &amp; Family Movies,  Comedies]</td>\n",
              "    </tr>\n",
              "    <tr>\n",
              "      <th>8806</th>\n",
              "      <td>[Dramas,  International Movies,  Music &amp; Music...</td>\n",
              "    </tr>\n",
              "    <tr>\n",
              "      <th>8807</th>\n",
              "      <td>[Sci-fi,  Horror,  Action]</td>\n",
              "    </tr>\n",
              "    <tr>\n",
              "      <th>8808</th>\n",
              "      <td>[Drama,  Romance,  Thriller]</td>\n",
              "    </tr>\n",
              "  </tbody>\n",
              "</table>\n",
              "<p>8090 rows × 1 columns</p>\n",
              "</div><br><label><b>dtype:</b> object</label>"
            ]
          },
          "metadata": {},
          "execution_count": 110
        }
      ]
    },
    {
      "cell_type": "code",
      "source": [
        "netflix['Genre 1'] = new_genre.str.get(0)\n",
        "netflix['Genre 2'] = new_genre.str.get(1)\n",
        "netflix['Genre 3'] = new_genre.str.get(2)\n",
        "netflix.head(2)\n"
      ],
      "metadata": {
        "colab": {
          "base_uri": "https://localhost:8080/",
          "height": 305
        },
        "id": "5m-IbfZggHSQ",
        "outputId": "e7b9c78e-7c7a-46c5-9e78-06f0cde77e39"
      },
      "execution_count": null,
      "outputs": [
        {
          "output_type": "execute_result",
          "data": {
            "text/plain": [
              "  show_id     type                 title         director  \\\n",
              "0      s1    Movie  Dick Johnson Is Dead  Kirsten Johnson   \n",
              "1      s2  TV Show         Blood & Water              NaN   \n",
              "\n",
              "                                                cast        country  \\\n",
              "0                                                NaN  United States   \n",
              "1  Ama Qamata, Khosi Ngema, Gail Mabalane, Thaban...   South Africa   \n",
              "\n",
              "  date_added  release_year rating   duration  \\\n",
              "0 2021-09-25        2020.0  PG-13     90 min   \n",
              "1 2021-09-24        2021.0  TV-MA  2 Seasons   \n",
              "\n",
              "                                         listed_in  \\\n",
              "0                                    Documentaries   \n",
              "1  International TV Shows, TV Dramas, TV Mysteries   \n",
              "\n",
              "                                         description  year_added  month_added  \\\n",
              "0  As her father nears the end of his life, filmm...      2021.0          9.0   \n",
              "1  After crossing paths at a party, a Cape Town t...      2021.0          9.0   \n",
              "\n",
              "                                              genres                 Genre 1  \\\n",
              "0                                   (Documentaries,)           Documentaries   \n",
              "1  (International TV Shows, TV Dramas, TV Mysteries)  International TV Shows   \n",
              "\n",
              "      Genre 2        Genre 3  \n",
              "0         NaN            NaN  \n",
              "1   TV Dramas   TV Mysteries  "
            ],
            "text/html": [
              "\n",
              "  <div id=\"df-e171d447-0904-4324-82da-1b59369811a5\" class=\"colab-df-container\">\n",
              "    <div>\n",
              "<style scoped>\n",
              "    .dataframe tbody tr th:only-of-type {\n",
              "        vertical-align: middle;\n",
              "    }\n",
              "\n",
              "    .dataframe tbody tr th {\n",
              "        vertical-align: top;\n",
              "    }\n",
              "\n",
              "    .dataframe thead th {\n",
              "        text-align: right;\n",
              "    }\n",
              "</style>\n",
              "<table border=\"1\" class=\"dataframe\">\n",
              "  <thead>\n",
              "    <tr style=\"text-align: right;\">\n",
              "      <th></th>\n",
              "      <th>show_id</th>\n",
              "      <th>type</th>\n",
              "      <th>title</th>\n",
              "      <th>director</th>\n",
              "      <th>cast</th>\n",
              "      <th>country</th>\n",
              "      <th>date_added</th>\n",
              "      <th>release_year</th>\n",
              "      <th>rating</th>\n",
              "      <th>duration</th>\n",
              "      <th>listed_in</th>\n",
              "      <th>description</th>\n",
              "      <th>year_added</th>\n",
              "      <th>month_added</th>\n",
              "      <th>genres</th>\n",
              "      <th>Genre 1</th>\n",
              "      <th>Genre 2</th>\n",
              "      <th>Genre 3</th>\n",
              "    </tr>\n",
              "  </thead>\n",
              "  <tbody>\n",
              "    <tr>\n",
              "      <th>0</th>\n",
              "      <td>s1</td>\n",
              "      <td>Movie</td>\n",
              "      <td>Dick Johnson Is Dead</td>\n",
              "      <td>Kirsten Johnson</td>\n",
              "      <td>NaN</td>\n",
              "      <td>United States</td>\n",
              "      <td>2021-09-25</td>\n",
              "      <td>2020.0</td>\n",
              "      <td>PG-13</td>\n",
              "      <td>90 min</td>\n",
              "      <td>Documentaries</td>\n",
              "      <td>As her father nears the end of his life, filmm...</td>\n",
              "      <td>2021.0</td>\n",
              "      <td>9.0</td>\n",
              "      <td>(Documentaries,)</td>\n",
              "      <td>Documentaries</td>\n",
              "      <td>NaN</td>\n",
              "      <td>NaN</td>\n",
              "    </tr>\n",
              "    <tr>\n",
              "      <th>1</th>\n",
              "      <td>s2</td>\n",
              "      <td>TV Show</td>\n",
              "      <td>Blood &amp; Water</td>\n",
              "      <td>NaN</td>\n",
              "      <td>Ama Qamata, Khosi Ngema, Gail Mabalane, Thaban...</td>\n",
              "      <td>South Africa</td>\n",
              "      <td>2021-09-24</td>\n",
              "      <td>2021.0</td>\n",
              "      <td>TV-MA</td>\n",
              "      <td>2 Seasons</td>\n",
              "      <td>International TV Shows, TV Dramas, TV Mysteries</td>\n",
              "      <td>After crossing paths at a party, a Cape Town t...</td>\n",
              "      <td>2021.0</td>\n",
              "      <td>9.0</td>\n",
              "      <td>(International TV Shows, TV Dramas, TV Mysteries)</td>\n",
              "      <td>International TV Shows</td>\n",
              "      <td>TV Dramas</td>\n",
              "      <td>TV Mysteries</td>\n",
              "    </tr>\n",
              "  </tbody>\n",
              "</table>\n",
              "</div>\n",
              "    <div class=\"colab-df-buttons\">\n",
              "\n",
              "  <div class=\"colab-df-container\">\n",
              "    <button class=\"colab-df-convert\" onclick=\"convertToInteractive('df-e171d447-0904-4324-82da-1b59369811a5')\"\n",
              "            title=\"Convert this dataframe to an interactive table.\"\n",
              "            style=\"display:none;\">\n",
              "\n",
              "  <svg xmlns=\"http://www.w3.org/2000/svg\" height=\"24px\" viewBox=\"0 -960 960 960\">\n",
              "    <path d=\"M120-120v-720h720v720H120Zm60-500h600v-160H180v160Zm220 220h160v-160H400v160Zm0 220h160v-160H400v160ZM180-400h160v-160H180v160Zm440 0h160v-160H620v160ZM180-180h160v-160H180v160Zm440 0h160v-160H620v160Z\"/>\n",
              "  </svg>\n",
              "    </button>\n",
              "\n",
              "  <style>\n",
              "    .colab-df-container {\n",
              "      display:flex;\n",
              "      gap: 12px;\n",
              "    }\n",
              "\n",
              "    .colab-df-convert {\n",
              "      background-color: #E8F0FE;\n",
              "      border: none;\n",
              "      border-radius: 50%;\n",
              "      cursor: pointer;\n",
              "      display: none;\n",
              "      fill: #1967D2;\n",
              "      height: 32px;\n",
              "      padding: 0 0 0 0;\n",
              "      width: 32px;\n",
              "    }\n",
              "\n",
              "    .colab-df-convert:hover {\n",
              "      background-color: #E2EBFA;\n",
              "      box-shadow: 0px 1px 2px rgba(60, 64, 67, 0.3), 0px 1px 3px 1px rgba(60, 64, 67, 0.15);\n",
              "      fill: #174EA6;\n",
              "    }\n",
              "\n",
              "    .colab-df-buttons div {\n",
              "      margin-bottom: 4px;\n",
              "    }\n",
              "\n",
              "    [theme=dark] .colab-df-convert {\n",
              "      background-color: #3B4455;\n",
              "      fill: #D2E3FC;\n",
              "    }\n",
              "\n",
              "    [theme=dark] .colab-df-convert:hover {\n",
              "      background-color: #434B5C;\n",
              "      box-shadow: 0px 1px 3px 1px rgba(0, 0, 0, 0.15);\n",
              "      filter: drop-shadow(0px 1px 2px rgba(0, 0, 0, 0.3));\n",
              "      fill: #FFFFFF;\n",
              "    }\n",
              "  </style>\n",
              "\n",
              "    <script>\n",
              "      const buttonEl =\n",
              "        document.querySelector('#df-e171d447-0904-4324-82da-1b59369811a5 button.colab-df-convert');\n",
              "      buttonEl.style.display =\n",
              "        google.colab.kernel.accessAllowed ? 'block' : 'none';\n",
              "\n",
              "      async function convertToInteractive(key) {\n",
              "        const element = document.querySelector('#df-e171d447-0904-4324-82da-1b59369811a5');\n",
              "        const dataTable =\n",
              "          await google.colab.kernel.invokeFunction('convertToInteractive',\n",
              "                                                    [key], {});\n",
              "        if (!dataTable) return;\n",
              "\n",
              "        const docLinkHtml = 'Like what you see? Visit the ' +\n",
              "          '<a target=\"_blank\" href=https://colab.research.google.com/notebooks/data_table.ipynb>data table notebook</a>'\n",
              "          + ' to learn more about interactive tables.';\n",
              "        element.innerHTML = '';\n",
              "        dataTable['output_type'] = 'display_data';\n",
              "        await google.colab.output.renderOutput(dataTable, element);\n",
              "        const docLink = document.createElement('div');\n",
              "        docLink.innerHTML = docLinkHtml;\n",
              "        element.appendChild(docLink);\n",
              "      }\n",
              "    </script>\n",
              "  </div>\n",
              "\n",
              "\n",
              "<div id=\"df-761d37c3-2150-497d-b855-52be1dff32a1\">\n",
              "  <button class=\"colab-df-quickchart\" onclick=\"quickchart('df-761d37c3-2150-497d-b855-52be1dff32a1')\"\n",
              "            title=\"Suggest charts\"\n",
              "            style=\"display:none;\">\n",
              "\n",
              "<svg xmlns=\"http://www.w3.org/2000/svg\" height=\"24px\"viewBox=\"0 0 24 24\"\n",
              "     width=\"24px\">\n",
              "    <g>\n",
              "        <path d=\"M19 3H5c-1.1 0-2 .9-2 2v14c0 1.1.9 2 2 2h14c1.1 0 2-.9 2-2V5c0-1.1-.9-2-2-2zM9 17H7v-7h2v7zm4 0h-2V7h2v10zm4 0h-2v-4h2v4z\"/>\n",
              "    </g>\n",
              "</svg>\n",
              "  </button>\n",
              "\n",
              "<style>\n",
              "  .colab-df-quickchart {\n",
              "      --bg-color: #E8F0FE;\n",
              "      --fill-color: #1967D2;\n",
              "      --hover-bg-color: #E2EBFA;\n",
              "      --hover-fill-color: #174EA6;\n",
              "      --disabled-fill-color: #AAA;\n",
              "      --disabled-bg-color: #DDD;\n",
              "  }\n",
              "\n",
              "  [theme=dark] .colab-df-quickchart {\n",
              "      --bg-color: #3B4455;\n",
              "      --fill-color: #D2E3FC;\n",
              "      --hover-bg-color: #434B5C;\n",
              "      --hover-fill-color: #FFFFFF;\n",
              "      --disabled-bg-color: #3B4455;\n",
              "      --disabled-fill-color: #666;\n",
              "  }\n",
              "\n",
              "  .colab-df-quickchart {\n",
              "    background-color: var(--bg-color);\n",
              "    border: none;\n",
              "    border-radius: 50%;\n",
              "    cursor: pointer;\n",
              "    display: none;\n",
              "    fill: var(--fill-color);\n",
              "    height: 32px;\n",
              "    padding: 0;\n",
              "    width: 32px;\n",
              "  }\n",
              "\n",
              "  .colab-df-quickchart:hover {\n",
              "    background-color: var(--hover-bg-color);\n",
              "    box-shadow: 0 1px 2px rgba(60, 64, 67, 0.3), 0 1px 3px 1px rgba(60, 64, 67, 0.15);\n",
              "    fill: var(--button-hover-fill-color);\n",
              "  }\n",
              "\n",
              "  .colab-df-quickchart-complete:disabled,\n",
              "  .colab-df-quickchart-complete:disabled:hover {\n",
              "    background-color: var(--disabled-bg-color);\n",
              "    fill: var(--disabled-fill-color);\n",
              "    box-shadow: none;\n",
              "  }\n",
              "\n",
              "  .colab-df-spinner {\n",
              "    border: 2px solid var(--fill-color);\n",
              "    border-color: transparent;\n",
              "    border-bottom-color: var(--fill-color);\n",
              "    animation:\n",
              "      spin 1s steps(1) infinite;\n",
              "  }\n",
              "\n",
              "  @keyframes spin {\n",
              "    0% {\n",
              "      border-color: transparent;\n",
              "      border-bottom-color: var(--fill-color);\n",
              "      border-left-color: var(--fill-color);\n",
              "    }\n",
              "    20% {\n",
              "      border-color: transparent;\n",
              "      border-left-color: var(--fill-color);\n",
              "      border-top-color: var(--fill-color);\n",
              "    }\n",
              "    30% {\n",
              "      border-color: transparent;\n",
              "      border-left-color: var(--fill-color);\n",
              "      border-top-color: var(--fill-color);\n",
              "      border-right-color: var(--fill-color);\n",
              "    }\n",
              "    40% {\n",
              "      border-color: transparent;\n",
              "      border-right-color: var(--fill-color);\n",
              "      border-top-color: var(--fill-color);\n",
              "    }\n",
              "    60% {\n",
              "      border-color: transparent;\n",
              "      border-right-color: var(--fill-color);\n",
              "    }\n",
              "    80% {\n",
              "      border-color: transparent;\n",
              "      border-right-color: var(--fill-color);\n",
              "      border-bottom-color: var(--fill-color);\n",
              "    }\n",
              "    90% {\n",
              "      border-color: transparent;\n",
              "      border-bottom-color: var(--fill-color);\n",
              "    }\n",
              "  }\n",
              "</style>\n",
              "\n",
              "  <script>\n",
              "    async function quickchart(key) {\n",
              "      const quickchartButtonEl =\n",
              "        document.querySelector('#' + key + ' button');\n",
              "      quickchartButtonEl.disabled = true;  // To prevent multiple clicks.\n",
              "      quickchartButtonEl.classList.add('colab-df-spinner');\n",
              "      try {\n",
              "        const charts = await google.colab.kernel.invokeFunction(\n",
              "            'suggestCharts', [key], {});\n",
              "      } catch (error) {\n",
              "        console.error('Error during call to suggestCharts:', error);\n",
              "      }\n",
              "      quickchartButtonEl.classList.remove('colab-df-spinner');\n",
              "      quickchartButtonEl.classList.add('colab-df-quickchart-complete');\n",
              "    }\n",
              "    (() => {\n",
              "      let quickchartButtonEl =\n",
              "        document.querySelector('#df-761d37c3-2150-497d-b855-52be1dff32a1 button');\n",
              "      quickchartButtonEl.style.display =\n",
              "        google.colab.kernel.accessAllowed ? 'block' : 'none';\n",
              "    })();\n",
              "  </script>\n",
              "</div>\n",
              "\n",
              "    </div>\n",
              "  </div>\n"
            ],
            "application/vnd.google.colaboratory.intrinsic+json": {
              "type": "dataframe",
              "variable_name": "netflix",
              "summary": "{\n  \"name\": \"netflix\",\n  \"rows\": 8090,\n  \"fields\": [\n    {\n      \"column\": \"show_id\",\n      \"properties\": {\n        \"dtype\": \"string\",\n        \"num_unique_values\": 8090,\n        \"samples\": [\n          \"s4435\",\n          \"s4406\",\n          \"s2099\"\n        ],\n        \"semantic_type\": \"\",\n        \"description\": \"\"\n      }\n    },\n    {\n      \"column\": \"type\",\n      \"properties\": {\n        \"dtype\": \"category\",\n        \"num_unique_values\": 2,\n        \"samples\": [\n          \"TV Show\",\n          \"Movie\"\n        ],\n        \"semantic_type\": \"\",\n        \"description\": \"\"\n      }\n    },\n    {\n      \"column\": \"title\",\n      \"properties\": {\n        \"dtype\": \"string\",\n        \"num_unique_values\": 8087,\n        \"samples\": [\n          \"Sunrise\",\n          \"La Gran Ilusi\\u00c3\\u00b3n\"\n        ],\n        \"semantic_type\": \"\",\n        \"description\": \"\"\n      }\n    },\n    {\n      \"column\": \"director\",\n      \"properties\": {\n        \"dtype\": \"string\",\n        \"num_unique_values\": 4200,\n        \"samples\": [\n          \"Naoto Amazutsumi\",\n          \"Johanna Demetrakas\"\n        ],\n        \"semantic_type\": \"\",\n        \"description\": \"\"\n      }\n    },\n    {\n      \"column\": \"cast\",\n      \"properties\": {\n        \"dtype\": \"string\",\n        \"num_unique_values\": 7013,\n        \"samples\": [\n          \"Darren Wang, Zhang Tianai, Sheng Guansen, Simon Yam, Wang Xun, Zhao Jian, Xing Yu, Hu Bing, He Sui, Luxia Jiang\",\n          \"Luis Gerardo M\\u00c3\\u00a9ndez, Mariana Trevi\\u00c3\\u00b1o, Stephanie Cayo, Daniel Gim\\u00c3\\u00a9nez Cacho, Alosian Vivancos, Antonio de la Vega, Ianis Guerrero, Juan Pablo de Santiago, Joaqu\\u00c3\\u00adn Ferreira, Said Sandoval, Andr\\u00c3\\u00a9s Pardave, Sof\\u00c3\\u00ada Ni\\u00c3\\u00b1o de Rivera, Eileen Ya\\u00c3\\u00b1ez, Gutemberg Brito, Claudia Vega, Ver\\u00c3\\u00b3nica Ter\\u00c3\\u00a1n, Jes\\u00c3\\u00bas Zavala, Gustavo Ganem, Ricardo Polanco, Emilio Guerrero, Luis R\\u00c3\\u00a1bago, Guillermo Dorantes, Richie Mestre, Sof\\u00c3\\u00ada Sisniega, Aldo Escalante, Juan Luis Orendain, Marcela \\u00c3\\u0081lvarez\"\n        ],\n        \"semantic_type\": \"\",\n        \"description\": \"\"\n      }\n    },\n    {\n      \"column\": \"country\",\n      \"properties\": {\n        \"dtype\": \"category\",\n        \"num_unique_values\": 704,\n        \"samples\": [\n          \"United States, France, Japan\",\n          \"Vietnam\"\n        ],\n        \"semantic_type\": \"\",\n        \"description\": \"\"\n      }\n    },\n    {\n      \"column\": \"date_added\",\n      \"properties\": {\n        \"dtype\": \"date\",\n        \"min\": \"2008-01-01 00:00:00\",\n        \"max\": \"2024-04-05 00:00:00\",\n        \"num_unique_values\": 1687,\n        \"samples\": [\n          \"2020-09-17 00:00:00\",\n          \"2016-04-09 00:00:00\"\n        ],\n        \"semantic_type\": \"\",\n        \"description\": \"\"\n      }\n    },\n    {\n      \"column\": \"release_year\",\n      \"properties\": {\n        \"dtype\": \"number\",\n        \"std\": 3.786628767222701,\n        \"min\": 2004.0,\n        \"max\": 2024.0,\n        \"num_unique_values\": 19,\n        \"samples\": [\n          2020.0,\n          2017.0\n        ],\n        \"semantic_type\": \"\",\n        \"description\": \"\"\n      }\n    },\n    {\n      \"column\": \"rating\",\n      \"properties\": {\n        \"dtype\": \"category\",\n        \"num_unique_values\": 18,\n        \"samples\": [\n          \"PG-13\",\n          \"TV-MA\"\n        ],\n        \"semantic_type\": \"\",\n        \"description\": \"\"\n      }\n    },\n    {\n      \"column\": \"duration\",\n      \"properties\": {\n        \"dtype\": \"category\",\n        \"num_unique_values\": 201,\n        \"samples\": [\n          \"159 min\",\n          \"111 min\"\n        ],\n        \"semantic_type\": \"\",\n        \"description\": \"\"\n      }\n    },\n    {\n      \"column\": \"listed_in\",\n      \"properties\": {\n        \"dtype\": \"category\",\n        \"num_unique_values\": 466,\n        \"samples\": [\n          \"Children & Family Movies, Dramas\",\n          \"Crime TV Shows, TV Action & Adventure, TV Comedies\"\n        ],\n        \"semantic_type\": \"\",\n        \"description\": \"\"\n      }\n    },\n    {\n      \"column\": \"description\",\n      \"properties\": {\n        \"dtype\": \"string\",\n        \"num_unique_values\": 8062,\n        \"samples\": [\n          \"A young gay man with cerebral palsy branches out from his insular existence in hopes of finally going after the life he wants.\",\n          \"Amid the turmoil of China's civil war, families of Kuomintang pilots face the pain of leaving their homes but find strength in their shared bonds.\"\n        ],\n        \"semantic_type\": \"\",\n        \"description\": \"\"\n      }\n    },\n    {\n      \"column\": \"year_added\",\n      \"properties\": {\n        \"dtype\": \"number\",\n        \"std\": 1.5469966093009722,\n        \"min\": 2008.0,\n        \"max\": 2024.0,\n        \"num_unique_values\": 14,\n        \"samples\": [\n          2012.0,\n          2009.0\n        ],\n        \"semantic_type\": \"\",\n        \"description\": \"\"\n      }\n    },\n    {\n      \"column\": \"month_added\",\n      \"properties\": {\n        \"dtype\": \"number\",\n        \"std\": 3.4087205604863695,\n        \"min\": 1.0,\n        \"max\": 12.0,\n        \"num_unique_values\": 12,\n        \"samples\": [\n          11.0,\n          12.0\n        ],\n        \"semantic_type\": \"\",\n        \"description\": \"\"\n      }\n    },\n    {\n      \"column\": \"genres\",\n      \"properties\": {\n        \"dtype\": \"category\",\n        \"num_unique_values\": 466,\n        \"samples\": [\n          [\n            \"Children & Family Movies\",\n            \"Dramas\"\n          ],\n          [\n            \"Crime TV Shows\",\n            \"TV Action & Adventure\",\n            \"TV Comedies\"\n          ]\n        ],\n        \"semantic_type\": \"\",\n        \"description\": \"\"\n      }\n    },\n    {\n      \"column\": \"Genre 1\",\n      \"properties\": {\n        \"dtype\": \"category\",\n        \"num_unique_values\": 38,\n        \"samples\": [\n          \"Classic Movies\",\n          \"Sci-fi\"\n        ],\n        \"semantic_type\": \"\",\n        \"description\": \"\"\n      }\n    },\n    {\n      \"column\": \"Genre 2\",\n      \"properties\": {\n        \"dtype\": \"category\",\n        \"num_unique_values\": 38,\n        \"samples\": [\n          \" TV Thrillers\",\n          \" Horror\"\n        ],\n        \"semantic_type\": \"\",\n        \"description\": \"\"\n      }\n    },\n    {\n      \"column\": \"Genre 3\",\n      \"properties\": {\n        \"dtype\": \"category\",\n        \"num_unique_values\": 33,\n        \"samples\": [\n          \" Action\",\n          \" Teen TV Shows\"\n        ],\n        \"semantic_type\": \"\",\n        \"description\": \"\"\n      }\n    }\n  ]\n}"
            }
          },
          "metadata": {},
          "execution_count": 116
        }
      ]
    },
    {
      "cell_type": "code",
      "source": [
        "\n",
        "netflix['release_year'].plot(kind='hist', bins=20, title='release_year')\n",
        "plt.gca().spines[['top', 'right',]].set_visible(False)"
      ],
      "metadata": {
        "colab": {
          "base_uri": "https://localhost:8080/",
          "height": 452
        },
        "id": "cPQpzkUpg8PX",
        "outputId": "099506f1-a248-4e36-f689-61768a4f8407"
      },
      "execution_count": null,
      "outputs": [
        {
          "output_type": "display_data",
          "data": {
            "text/plain": [
              "<Figure size 640x480 with 1 Axes>"
            ],
            "image/png": "[encoded data removed]"
          },
          "metadata": {}
        }
      ]
    },
    {
      "cell_type": "code",
      "source": [
        "netflix.groupby(['Genre 1'])['release_year'].count().sort_values(ascending = False)\n"
      ],
      "metadata": {
        "colab": {
          "base_uri": "https://localhost:8080/",
          "height": 1000
        },
        "id": "yhoM_pH4hCnl",
        "outputId": "31e78238-85a1-46b5-d7c7-91061cad1ff8"
      },
      "execution_count": null,
      "outputs": [
        {
          "output_type": "execute_result",
          "data": {
            "text/plain": [
              "Genre 1\n",
              "Dramas                          1469\n",
              "Comedies                        1082\n",
              "Documentaries                    812\n",
              "International TV Shows           764\n",
              "Action & Adventure               671\n",
              "Children & Family Movies         557\n",
              "Crime TV Shows                   398\n",
              "Kids' TV                         371\n",
              "Stand-Up Comedy                  317\n",
              "Horror Movies                    262\n",
              "British TV Shows                 247\n",
              "Docuseries                       218\n",
              "Anime Series                     165\n",
              "International Movies             126\n",
              "Reality TV                       118\n",
              "TV Comedies                      115\n",
              "TV Dramas                         64\n",
              "Movies                            56\n",
              "Thrillers                         53\n",
              "TV Action & Adventure             37\n",
              "Stand-Up Comedy & Talk Shows      34\n",
              "Romantic TV Shows                 31\n",
              "Anime Features                    21\n",
              "Independent Movies                20\n",
              "Music & Musicals                  18\n",
              "Classic & Cult TV                 14\n",
              "Sci-Fi & Fantasy                  13\n",
              "TV Shows                          11\n",
              "TV Horror                         11\n",
              "Cult Movies                        4\n",
              "Romantic Movies                    3\n",
              "Spanish-Language TV Shows          2\n",
              "TV Sci-Fi & Fantasy                1\n",
              "Sports Movies                      1\n",
              "Classic Movies                     1\n",
              "Sci-fi                             1\n",
              "Drama                              1\n",
              "LGBTQ Movies                       1\n",
              "Name: release_year, dtype: int64"
            ],
            "text/html": [
              "<div>\n",
              "<style scoped>\n",
              "    .dataframe tbody tr th:only-of-type {\n",
              "        vertical-align: middle;\n",
              "    }\n",
              "\n",
              "    .dataframe tbody tr th {\n",
              "        vertical-align: top;\n",
              "    }\n",
              "\n",
              "    .dataframe thead th {\n",
              "        text-align: right;\n",
              "    }\n",
              "</style>\n",
              "<table border=\"1\" class=\"dataframe\">\n",
              "  <thead>\n",
              "    <tr style=\"text-align: right;\">\n",
              "      <th></th>\n",
              "      <th>release_year</th>\n",
              "    </tr>\n",
              "    <tr>\n",
              "      <th>Genre 1</th>\n",
              "      <th></th>\n",
              "    </tr>\n",
              "  </thead>\n",
              "  <tbody>\n",
              "    <tr>\n",
              "      <th>Dramas</th>\n",
              "      <td>1469</td>\n",
              "    </tr>\n",
              "    <tr>\n",
              "      <th>Comedies</th>\n",
              "      <td>1082</td>\n",
              "    </tr>\n",
              "    <tr>\n",
              "      <th>Documentaries</th>\n",
              "      <td>812</td>\n",
              "    </tr>\n",
              "    <tr>\n",
              "      <th>International TV Shows</th>\n",
              "      <td>764</td>\n",
              "    </tr>\n",
              "    <tr>\n",
              "      <th>Action &amp; Adventure</th>\n",
              "      <td>671</td>\n",
              "    </tr>\n",
              "    <tr>\n",
              "      <th>Children &amp; Family Movies</th>\n",
              "      <td>557</td>\n",
              "    </tr>\n",
              "    <tr>\n",
              "      <th>Crime TV Shows</th>\n",
              "      <td>398</td>\n",
              "    </tr>\n",
              "    <tr>\n",
              "      <th>Kids' TV</th>\n",
              "      <td>371</td>\n",
              "    </tr>\n",
              "    <tr>\n",
              "      <th>Stand-Up Comedy</th>\n",
              "      <td>317</td>\n",
              "    </tr>\n",
              "    <tr>\n",
              "      <th>Horror Movies</th>\n",
              "      <td>262</td>\n",
              "    </tr>\n",
              "    <tr>\n",
              "      <th>British TV Shows</th>\n",
              "      <td>247</td>\n",
              "    </tr>\n",
              "    <tr>\n",
              "      <th>Docuseries</th>\n",
              "      <td>218</td>\n",
              "    </tr>\n",
              "    <tr>\n",
              "      <th>Anime Series</th>\n",
              "      <td>165</td>\n",
              "    </tr>\n",
              "    <tr>\n",
              "      <th>International Movies</th>\n",
              "      <td>126</td>\n",
              "    </tr>\n",
              "    <tr>\n",
              "      <th>Reality TV</th>\n",
              "      <td>118</td>\n",
              "    </tr>\n",
              "    <tr>\n",
              "      <th>TV Comedies</th>\n",
              "      <td>115</td>\n",
              "    </tr>\n",
              "    <tr>\n",
              "      <th>TV Dramas</th>\n",
              "      <td>64</td>\n",
              "    </tr>\n",
              "    <tr>\n",
              "      <th>Movies</th>\n",
              "      <td>56</td>\n",
              "    </tr>\n",
              "    <tr>\n",
              "      <th>Thrillers</th>\n",
              "      <td>53</td>\n",
              "    </tr>\n",
              "    <tr>\n",
              "      <th>TV Action &amp; Adventure</th>\n",
              "      <td>37</td>\n",
              "    </tr>\n",
              "    <tr>\n",
              "      <th>Stand-Up Comedy &amp; Talk Shows</th>\n",
              "      <td>34</td>\n",
              "    </tr>\n",
              "    <tr>\n",
              "      <th>Romantic TV Shows</th>\n",
              "      <td>31</td>\n",
              "    </tr>\n",
              "    <tr>\n",
              "      <th>Anime Features</th>\n",
              "      <td>21</td>\n",
              "    </tr>\n",
              "    <tr>\n",
              "      <th>Independent Movies</th>\n",
              "      <td>20</td>\n",
              "    </tr>\n",
              "    <tr>\n",
              "      <th>Music &amp; Musicals</th>\n",
              "      <td>18</td>\n",
              "    </tr>\n",
              "    <tr>\n",
              "      <th>Classic &amp; Cult TV</th>\n",
              "      <td>14</td>\n",
              "    </tr>\n",
              "    <tr>\n",
              "      <th>Sci-Fi &amp; Fantasy</th>\n",
              "      <td>13</td>\n",
              "    </tr>\n",
              "    <tr>\n",
              "      <th>TV Shows</th>\n",
              "      <td>11</td>\n",
              "    </tr>\n",
              "    <tr>\n",
              "      <th>TV Horror</th>\n",
              "      <td>11</td>\n",
              "    </tr>\n",
              "    <tr>\n",
              "      <th>Cult Movies</th>\n",
              "      <td>4</td>\n",
              "    </tr>\n",
              "    <tr>\n",
              "      <th>Romantic Movies</th>\n",
              "      <td>3</td>\n",
              "    </tr>\n",
              "    <tr>\n",
              "      <th>Spanish-Language TV Shows</th>\n",
              "      <td>2</td>\n",
              "    </tr>\n",
              "    <tr>\n",
              "      <th>TV Sci-Fi &amp; Fantasy</th>\n",
              "      <td>1</td>\n",
              "    </tr>\n",
              "    <tr>\n",
              "      <th>Sports Movies</th>\n",
              "      <td>1</td>\n",
              "    </tr>\n",
              "    <tr>\n",
              "      <th>Classic Movies</th>\n",
              "      <td>1</td>\n",
              "    </tr>\n",
              "    <tr>\n",
              "      <th>Sci-fi</th>\n",
              "      <td>1</td>\n",
              "    </tr>\n",
              "    <tr>\n",
              "      <th>Drama</th>\n",
              "      <td>1</td>\n",
              "    </tr>\n",
              "    <tr>\n",
              "      <th>LGBTQ Movies</th>\n",
              "      <td>1</td>\n",
              "    </tr>\n",
              "  </tbody>\n",
              "</table>\n",
              "</div><br><label><b>dtype:</b> int64</label>"
            ]
          },
          "metadata": {},
          "execution_count": 119
        }
      ]
    },
    {
      "cell_type": "code",
      "source": [
        "netflix.groupby(['Genre 2'])['release_year'].count().sort_values(ascending = False)\n"
      ],
      "metadata": {
        "colab": {
          "base_uri": "https://localhost:8080/",
          "height": 1000
        },
        "id": "yqAI4m65hcGJ",
        "outputId": "37736070-f906-46cf-8446-d8186a8715f4"
      },
      "execution_count": null,
      "outputs": [
        {
          "output_type": "execute_result",
          "data": {
            "text/plain": [
              "Genre 2\n",
              "International Movies            1611\n",
              "Dramas                           638\n",
              "Independent Movies               554\n",
              "International TV Shows           471\n",
              "Comedies                         368\n",
              "TV Dramas                        318\n",
              "TV Comedies                      258\n",
              "Romantic TV Shows                234\n",
              "Thrillers                        214\n",
              "Docuseries                       150\n",
              "Romantic Movies                  145\n",
              "Music & Musicals                 137\n",
              "Korean TV Shows                  131\n",
              "Sci-Fi & Fantasy                  98\n",
              "Reality TV                        94\n",
              "Sports Movies                     89\n",
              "TV Action & Adventure             82\n",
              "Crime TV Shows                    70\n",
              "Spanish-Language TV Shows         65\n",
              "Horror Movies                     60\n",
              "Kids' TV                          56\n",
              "Faith & Spirituality              54\n",
              "Science & Nature TV               45\n",
              "LGBTQ Movies                      45\n",
              "Anime Features                    38\n",
              "TV Horror                         30\n",
              "Documentaries                     26\n",
              "Children & Family Movies          24\n",
              "TV Mysteries                      22\n",
              "Teen TV Shows                     19\n",
              "Stand-Up Comedy & Talk Shows      16\n",
              "TV Sci-Fi & Fantasy               16\n",
              "Cult Movies                       14\n",
              "TV Thrillers                      10\n",
              "Stand-Up Comedy                    9\n",
              "Classic & Cult TV                  4\n",
              "Romance                            1\n",
              "Horror                             1\n",
              "Name: release_year, dtype: int64"
            ],
            "text/html": [
              "<div>\n",
              "<style scoped>\n",
              "    .dataframe tbody tr th:only-of-type {\n",
              "        vertical-align: middle;\n",
              "    }\n",
              "\n",
              "    .dataframe tbody tr th {\n",
              "        vertical-align: top;\n",
              "    }\n",
              "\n",
              "    .dataframe thead th {\n",
              "        text-align: right;\n",
              "    }\n",
              "</style>\n",
              "<table border=\"1\" class=\"dataframe\">\n",
              "  <thead>\n",
              "    <tr style=\"text-align: right;\">\n",
              "      <th></th>\n",
              "      <th>release_year</th>\n",
              "    </tr>\n",
              "    <tr>\n",
              "      <th>Genre 2</th>\n",
              "      <th></th>\n",
              "    </tr>\n",
              "  </thead>\n",
              "  <tbody>\n",
              "    <tr>\n",
              "      <th>International Movies</th>\n",
              "      <td>1611</td>\n",
              "    </tr>\n",
              "    <tr>\n",
              "      <th>Dramas</th>\n",
              "      <td>638</td>\n",
              "    </tr>\n",
              "    <tr>\n",
              "      <th>Independent Movies</th>\n",
              "      <td>554</td>\n",
              "    </tr>\n",
              "    <tr>\n",
              "      <th>International TV Shows</th>\n",
              "      <td>471</td>\n",
              "    </tr>\n",
              "    <tr>\n",
              "      <th>Comedies</th>\n",
              "      <td>368</td>\n",
              "    </tr>\n",
              "    <tr>\n",
              "      <th>TV Dramas</th>\n",
              "      <td>318</td>\n",
              "    </tr>\n",
              "    <tr>\n",
              "      <th>TV Comedies</th>\n",
              "      <td>258</td>\n",
              "    </tr>\n",
              "    <tr>\n",
              "      <th>Romantic TV Shows</th>\n",
              "      <td>234</td>\n",
              "    </tr>\n",
              "    <tr>\n",
              "      <th>Thrillers</th>\n",
              "      <td>214</td>\n",
              "    </tr>\n",
              "    <tr>\n",
              "      <th>Docuseries</th>\n",
              "      <td>150</td>\n",
              "    </tr>\n",
              "    <tr>\n",
              "      <th>Romantic Movies</th>\n",
              "      <td>145</td>\n",
              "    </tr>\n",
              "    <tr>\n",
              "      <th>Music &amp; Musicals</th>\n",
              "      <td>137</td>\n",
              "    </tr>\n",
              "    <tr>\n",
              "      <th>Korean TV Shows</th>\n",
              "      <td>131</td>\n",
              "    </tr>\n",
              "    <tr>\n",
              "      <th>Sci-Fi &amp; Fantasy</th>\n",
              "      <td>98</td>\n",
              "    </tr>\n",
              "    <tr>\n",
              "      <th>Reality TV</th>\n",
              "      <td>94</td>\n",
              "    </tr>\n",
              "    <tr>\n",
              "      <th>Sports Movies</th>\n",
              "      <td>89</td>\n",
              "    </tr>\n",
              "    <tr>\n",
              "      <th>TV Action &amp; Adventure</th>\n",
              "      <td>82</td>\n",
              "    </tr>\n",
              "    <tr>\n",
              "      <th>Crime TV Shows</th>\n",
              "      <td>70</td>\n",
              "    </tr>\n",
              "    <tr>\n",
              "      <th>Spanish-Language TV Shows</th>\n",
              "      <td>65</td>\n",
              "    </tr>\n",
              "    <tr>\n",
              "      <th>Horror Movies</th>\n",
              "      <td>60</td>\n",
              "    </tr>\n",
              "    <tr>\n",
              "      <th>Kids' TV</th>\n",
              "      <td>56</td>\n",
              "    </tr>\n",
              "    <tr>\n",
              "      <th>Faith &amp; Spirituality</th>\n",
              "      <td>54</td>\n",
              "    </tr>\n",
              "    <tr>\n",
              "      <th>Science &amp; Nature TV</th>\n",
              "      <td>45</td>\n",
              "    </tr>\n",
              "    <tr>\n",
              "      <th>LGBTQ Movies</th>\n",
              "      <td>45</td>\n",
              "    </tr>\n",
              "    <tr>\n",
              "      <th>Anime Features</th>\n",
              "      <td>38</td>\n",
              "    </tr>\n",
              "    <tr>\n",
              "      <th>TV Horror</th>\n",
              "      <td>30</td>\n",
              "    </tr>\n",
              "    <tr>\n",
              "      <th>Documentaries</th>\n",
              "      <td>26</td>\n",
              "    </tr>\n",
              "    <tr>\n",
              "      <th>Children &amp; Family Movies</th>\n",
              "      <td>24</td>\n",
              "    </tr>\n",
              "    <tr>\n",
              "      <th>TV Mysteries</th>\n",
              "      <td>22</td>\n",
              "    </tr>\n",
              "    <tr>\n",
              "      <th>Teen TV Shows</th>\n",
              "      <td>19</td>\n",
              "    </tr>\n",
              "    <tr>\n",
              "      <th>Stand-Up Comedy &amp; Talk Shows</th>\n",
              "      <td>16</td>\n",
              "    </tr>\n",
              "    <tr>\n",
              "      <th>TV Sci-Fi &amp; Fantasy</th>\n",
              "      <td>16</td>\n",
              "    </tr>\n",
              "    <tr>\n",
              "      <th>Cult Movies</th>\n",
              "      <td>14</td>\n",
              "    </tr>\n",
              "    <tr>\n",
              "      <th>TV Thrillers</th>\n",
              "      <td>10</td>\n",
              "    </tr>\n",
              "    <tr>\n",
              "      <th>Stand-Up Comedy</th>\n",
              "      <td>9</td>\n",
              "    </tr>\n",
              "    <tr>\n",
              "      <th>Classic &amp; Cult TV</th>\n",
              "      <td>4</td>\n",
              "    </tr>\n",
              "    <tr>\n",
              "      <th>Romance</th>\n",
              "      <td>1</td>\n",
              "    </tr>\n",
              "    <tr>\n",
              "      <th>Horror</th>\n",
              "      <td>1</td>\n",
              "    </tr>\n",
              "  </tbody>\n",
              "</table>\n",
              "</div><br><label><b>dtype:</b> int64</label>"
            ]
          },
          "metadata": {},
          "execution_count": 120
        }
      ]
    },
    {
      "cell_type": "code",
      "source": [
        "netflix.groupby(['Genre 3'])['release_year'].count().sort_values(ascending = False)\n"
      ],
      "metadata": {
        "colab": {
          "base_uri": "https://localhost:8080/",
          "height": 1000
        },
        "id": "VZSQ-qBShiyV",
        "outputId": "65c65d63-ae02-4dfa-e721-646d0e12b923"
      },
      "execution_count": null,
      "outputs": [
        {
          "output_type": "execute_result",
          "data": {
            "text/plain": [
              "Genre 3\n",
              "International Movies            794\n",
              "Romantic Movies                 400\n",
              "TV Dramas                       372\n",
              "Thrillers                       266\n",
              "TV Comedies                     189\n",
              "Music & Musicals                178\n",
              "Independent Movies              138\n",
              "Sports Movies                   113\n",
              "Spanish-Language TV Shows       104\n",
              "Romantic TV Shows                99\n",
              "International TV Shows           99\n",
              "Sci-Fi & Fantasy                 97\n",
              "TV Mysteries                     75\n",
              "TV Sci-Fi & Fantasy              62\n",
              "LGBTQ Movies                     53\n",
              "Science & Nature TV              47\n",
              "TV Thrillers                     46\n",
              "Teen TV Shows                    46\n",
              "TV Action & Adventure            44\n",
              "Reality TV                       40\n",
              "Dramas                           40\n",
              "TV Horror                        34\n",
              "Docuseries                       21\n",
              "Korean TV Shows                  20\n",
              "Faith & Spirituality             10\n",
              "Stand-Up Comedy & Talk Shows      6\n",
              "Children & Family Movies          4\n",
              "Cult Movies                       4\n",
              "Comedies                          3\n",
              "Horror Movies                     3\n",
              "Kids' TV                          1\n",
              "Thriller                          1\n",
              "Action                            1\n",
              "Name: release_year, dtype: int64"
            ],
            "text/html": [
              "<div>\n",
              "<style scoped>\n",
              "    .dataframe tbody tr th:only-of-type {\n",
              "        vertical-align: middle;\n",
              "    }\n",
              "\n",
              "    .dataframe tbody tr th {\n",
              "        vertical-align: top;\n",
              "    }\n",
              "\n",
              "    .dataframe thead th {\n",
              "        text-align: right;\n",
              "    }\n",
              "</style>\n",
              "<table border=\"1\" class=\"dataframe\">\n",
              "  <thead>\n",
              "    <tr style=\"text-align: right;\">\n",
              "      <th></th>\n",
              "      <th>release_year</th>\n",
              "    </tr>\n",
              "    <tr>\n",
              "      <th>Genre 3</th>\n",
              "      <th></th>\n",
              "    </tr>\n",
              "  </thead>\n",
              "  <tbody>\n",
              "    <tr>\n",
              "      <th>International Movies</th>\n",
              "      <td>794</td>\n",
              "    </tr>\n",
              "    <tr>\n",
              "      <th>Romantic Movies</th>\n",
              "      <td>400</td>\n",
              "    </tr>\n",
              "    <tr>\n",
              "      <th>TV Dramas</th>\n",
              "      <td>372</td>\n",
              "    </tr>\n",
              "    <tr>\n",
              "      <th>Thrillers</th>\n",
              "      <td>266</td>\n",
              "    </tr>\n",
              "    <tr>\n",
              "      <th>TV Comedies</th>\n",
              "      <td>189</td>\n",
              "    </tr>\n",
              "    <tr>\n",
              "      <th>Music &amp; Musicals</th>\n",
              "      <td>178</td>\n",
              "    </tr>\n",
              "    <tr>\n",
              "      <th>Independent Movies</th>\n",
              "      <td>138</td>\n",
              "    </tr>\n",
              "    <tr>\n",
              "      <th>Sports Movies</th>\n",
              "      <td>113</td>\n",
              "    </tr>\n",
              "    <tr>\n",
              "      <th>Spanish-Language TV Shows</th>\n",
              "      <td>104</td>\n",
              "    </tr>\n",
              "    <tr>\n",
              "      <th>Romantic TV Shows</th>\n",
              "      <td>99</td>\n",
              "    </tr>\n",
              "    <tr>\n",
              "      <th>International TV Shows</th>\n",
              "      <td>99</td>\n",
              "    </tr>\n",
              "    <tr>\n",
              "      <th>Sci-Fi &amp; Fantasy</th>\n",
              "      <td>97</td>\n",
              "    </tr>\n",
              "    <tr>\n",
              "      <th>TV Mysteries</th>\n",
              "      <td>75</td>\n",
              "    </tr>\n",
              "    <tr>\n",
              "      <th>TV Sci-Fi &amp; Fantasy</th>\n",
              "      <td>62</td>\n",
              "    </tr>\n",
              "    <tr>\n",
              "      <th>LGBTQ Movies</th>\n",
              "      <td>53</td>\n",
              "    </tr>\n",
              "    <tr>\n",
              "      <th>Science &amp; Nature TV</th>\n",
              "      <td>47</td>\n",
              "    </tr>\n",
              "    <tr>\n",
              "      <th>TV Thrillers</th>\n",
              "      <td>46</td>\n",
              "    </tr>\n",
              "    <tr>\n",
              "      <th>Teen TV Shows</th>\n",
              "      <td>46</td>\n",
              "    </tr>\n",
              "    <tr>\n",
              "      <th>TV Action &amp; Adventure</th>\n",
              "      <td>44</td>\n",
              "    </tr>\n",
              "    <tr>\n",
              "      <th>Reality TV</th>\n",
              "      <td>40</td>\n",
              "    </tr>\n",
              "    <tr>\n",
              "      <th>Dramas</th>\n",
              "      <td>40</td>\n",
              "    </tr>\n",
              "    <tr>\n",
              "      <th>TV Horror</th>\n",
              "      <td>34</td>\n",
              "    </tr>\n",
              "    <tr>\n",
              "      <th>Docuseries</th>\n",
              "      <td>21</td>\n",
              "    </tr>\n",
              "    <tr>\n",
              "      <th>Korean TV Shows</th>\n",
              "      <td>20</td>\n",
              "    </tr>\n",
              "    <tr>\n",
              "      <th>Faith &amp; Spirituality</th>\n",
              "      <td>10</td>\n",
              "    </tr>\n",
              "    <tr>\n",
              "      <th>Stand-Up Comedy &amp; Talk Shows</th>\n",
              "      <td>6</td>\n",
              "    </tr>\n",
              "    <tr>\n",
              "      <th>Children &amp; Family Movies</th>\n",
              "      <td>4</td>\n",
              "    </tr>\n",
              "    <tr>\n",
              "      <th>Cult Movies</th>\n",
              "      <td>4</td>\n",
              "    </tr>\n",
              "    <tr>\n",
              "      <th>Comedies</th>\n",
              "      <td>3</td>\n",
              "    </tr>\n",
              "    <tr>\n",
              "      <th>Horror Movies</th>\n",
              "      <td>3</td>\n",
              "    </tr>\n",
              "    <tr>\n",
              "      <th>Kids' TV</th>\n",
              "      <td>1</td>\n",
              "    </tr>\n",
              "    <tr>\n",
              "      <th>Thriller</th>\n",
              "      <td>1</td>\n",
              "    </tr>\n",
              "    <tr>\n",
              "      <th>Action</th>\n",
              "      <td>1</td>\n",
              "    </tr>\n",
              "  </tbody>\n",
              "</table>\n",
              "</div><br><label><b>dtype:</b> int64</label>"
            ]
          },
          "metadata": {},
          "execution_count": 121
        }
      ]
    },
    {
      "cell_type": "code",
      "source": [
        "netflix['Genre 1'].describe(include=all)\n"
      ],
      "metadata": {
        "colab": {
          "base_uri": "https://localhost:8080/",
          "height": 209
        },
        "id": "-diMcCWb1Axe",
        "outputId": "7edadbf4-a50d-434e-a176-8abca23265b1"
      },
      "execution_count": null,
      "outputs": [
        {
          "output_type": "execute_result",
          "data": {
            "text/plain": [
              "count       8090\n",
              "unique        38\n",
              "top       Dramas\n",
              "freq        1469\n",
              "Name: Genre 1, dtype: object"
            ],
            "text/html": [
              "<div>\n",
              "<style scoped>\n",
              "    .dataframe tbody tr th:only-of-type {\n",
              "        vertical-align: middle;\n",
              "    }\n",
              "\n",
              "    .dataframe tbody tr th {\n",
              "        vertical-align: top;\n",
              "    }\n",
              "\n",
              "    .dataframe thead th {\n",
              "        text-align: right;\n",
              "    }\n",
              "</style>\n",
              "<table border=\"1\" class=\"dataframe\">\n",
              "  <thead>\n",
              "    <tr style=\"text-align: right;\">\n",
              "      <th></th>\n",
              "      <th>Genre 1</th>\n",
              "    </tr>\n",
              "  </thead>\n",
              "  <tbody>\n",
              "    <tr>\n",
              "      <th>count</th>\n",
              "      <td>8090</td>\n",
              "    </tr>\n",
              "    <tr>\n",
              "      <th>unique</th>\n",
              "      <td>38</td>\n",
              "    </tr>\n",
              "    <tr>\n",
              "      <th>top</th>\n",
              "      <td>Dramas</td>\n",
              "    </tr>\n",
              "    <tr>\n",
              "      <th>freq</th>\n",
              "      <td>1469</td>\n",
              "    </tr>\n",
              "  </tbody>\n",
              "</table>\n",
              "</div><br><label><b>dtype:</b> object</label>"
            ]
          },
          "metadata": {},
          "execution_count": 180
        }
      ]
    },
    {
      "cell_type": "code",
      "source": [
        "netflix['Genre 2'].describe(include=all)\n"
      ],
      "metadata": {
        "id": "zafGtyA81I2p",
        "outputId": "41e0fd3e-80da-4a2b-8da8-50428ccc4440",
        "colab": {
          "base_uri": "https://localhost:8080/",
          "height": 209
        }
      },
      "execution_count": null,
      "outputs": [
        {
          "output_type": "execute_result",
          "data": {
            "text/plain": [
              "count                      6217\n",
              "unique                       38\n",
              "top        International Movies\n",
              "freq                       1611\n",
              "Name: Genre 2, dtype: object"
            ],
            "text/html": [
              "<div>\n",
              "<style scoped>\n",
              "    .dataframe tbody tr th:only-of-type {\n",
              "        vertical-align: middle;\n",
              "    }\n",
              "\n",
              "    .dataframe tbody tr th {\n",
              "        vertical-align: top;\n",
              "    }\n",
              "\n",
              "    .dataframe thead th {\n",
              "        text-align: right;\n",
              "    }\n",
              "</style>\n",
              "<table border=\"1\" class=\"dataframe\">\n",
              "  <thead>\n",
              "    <tr style=\"text-align: right;\">\n",
              "      <th></th>\n",
              "      <th>Genre 2</th>\n",
              "    </tr>\n",
              "  </thead>\n",
              "  <tbody>\n",
              "    <tr>\n",
              "      <th>count</th>\n",
              "      <td>6217</td>\n",
              "    </tr>\n",
              "    <tr>\n",
              "      <th>unique</th>\n",
              "      <td>38</td>\n",
              "    </tr>\n",
              "    <tr>\n",
              "      <th>top</th>\n",
              "      <td>International Movies</td>\n",
              "    </tr>\n",
              "    <tr>\n",
              "      <th>freq</th>\n",
              "      <td>1611</td>\n",
              "    </tr>\n",
              "  </tbody>\n",
              "</table>\n",
              "</div><br><label><b>dtype:</b> object</label>"
            ]
          },
          "metadata": {},
          "execution_count": 181
        }
      ]
    },
    {
      "cell_type": "code",
      "source": [
        "netflix['Genre 3'].describe(include=all)\n"
      ],
      "metadata": {
        "colab": {
          "base_uri": "https://localhost:8080/",
          "height": 209
        },
        "id": "RKoBlLW41Hkh",
        "outputId": "9e71062a-9053-400f-bc80-daff2290f97b"
      },
      "execution_count": null,
      "outputs": [
        {
          "output_type": "execute_result",
          "data": {
            "text/plain": [
              "count                      3410\n",
              "unique                       33\n",
              "top        International Movies\n",
              "freq                        794\n",
              "Name: Genre 3, dtype: object"
            ],
            "text/html": [
              "<div>\n",
              "<style scoped>\n",
              "    .dataframe tbody tr th:only-of-type {\n",
              "        vertical-align: middle;\n",
              "    }\n",
              "\n",
              "    .dataframe tbody tr th {\n",
              "        vertical-align: top;\n",
              "    }\n",
              "\n",
              "    .dataframe thead th {\n",
              "        text-align: right;\n",
              "    }\n",
              "</style>\n",
              "<table border=\"1\" class=\"dataframe\">\n",
              "  <thead>\n",
              "    <tr style=\"text-align: right;\">\n",
              "      <th></th>\n",
              "      <th>Genre 3</th>\n",
              "    </tr>\n",
              "  </thead>\n",
              "  <tbody>\n",
              "    <tr>\n",
              "      <th>count</th>\n",
              "      <td>3410</td>\n",
              "    </tr>\n",
              "    <tr>\n",
              "      <th>unique</th>\n",
              "      <td>33</td>\n",
              "    </tr>\n",
              "    <tr>\n",
              "      <th>top</th>\n",
              "      <td>International Movies</td>\n",
              "    </tr>\n",
              "    <tr>\n",
              "      <th>freq</th>\n",
              "      <td>794</td>\n",
              "    </tr>\n",
              "  </tbody>\n",
              "</table>\n",
              "</div><br><label><b>dtype:</b> object</label>"
            ]
          },
          "metadata": {},
          "execution_count": 182
        }
      ]
    },
    {
      "cell_type": "code",
      "source": [
        "# by using Pie chart\n",
        "genre_types = ['genre 1','genre 2','genre 3']\n",
        "\n",
        "Value_count = [5700,4485,2434]\n",
        "plt.pie(Value_count, labels = genre_types, autopct=\"%2.2f%%\")\n",
        "plt.legend(title='Most watchedgenre on the Netflix')\n",
        "plt.show()"
      ],
      "metadata": {
        "colab": {
          "base_uri": "https://localhost:8080/",
          "height": 406
        },
        "id": "AkbLCkma0673",
        "outputId": "30962c1f-feb6-4d0b-ffbb-69f594694c97"
      },
      "execution_count": null,
      "outputs": [
        {
          "output_type": "display_data",
          "data": {
            "text/plain": [
              "<Figure size 640x480 with 1 Axes>"
            ],
            "image/png": "[encoded data removed]"
          },
          "metadata": {}
        }
      ]
    },
    {
      "cell_type": "code",
      "source": [
        "# converting month number to month name\n",
        "netflix['month_final'] = netflix['month_added'].replace({1:'Jan', 2:'Feb', 3:'Mar', 4:'Apr', 5:'May', 6:'June', 7:'July', 8:'Aug', 9:'Sep', 10:'Oct', 11:'Nov', 12:'Dec'})\n",
        "netflix.head(2)\n"
      ],
      "metadata": {
        "colab": {
          "base_uri": "https://localhost:8080/",
          "height": 305
        },
        "id": "hZQOnv4WhoK4",
        "outputId": "e8436fca-a266-4f75-af49-b15bc10af394"
      },
      "execution_count": null,
      "outputs": [
        {
          "output_type": "execute_result",
          "data": {
            "text/plain": [
              "  show_id     type                 title         director  \\\n",
              "0      s1    Movie  Dick Johnson Is Dead  Kirsten Johnson   \n",
              "1      s2  TV Show         Blood & Water              NaN   \n",
              "\n",
              "                                                cast        country  \\\n",
              "0                                                NaN  United States   \n",
              "1  Ama Qamata, Khosi Ngema, Gail Mabalane, Thaban...   South Africa   \n",
              "\n",
              "  date_added  release_year rating   duration  \\\n",
              "0 2021-09-25        2020.0  PG-13     90 min   \n",
              "1 2021-09-24        2021.0  TV-MA  2 Seasons   \n",
              "\n",
              "                                         listed_in  \\\n",
              "0                                    Documentaries   \n",
              "1  International TV Shows, TV Dramas, TV Mysteries   \n",
              "\n",
              "                                         description  year_added  month_added  \\\n",
              "0  As her father nears the end of his life, filmm...      2021.0          9.0   \n",
              "1  After crossing paths at a party, a Cape Town t...      2021.0          9.0   \n",
              "\n",
              "                                              genres                 Genre 1  \\\n",
              "0                                   (Documentaries,)           Documentaries   \n",
              "1  (International TV Shows, TV Dramas, TV Mysteries)  International TV Shows   \n",
              "\n",
              "      Genre 2        Genre 3 month_final  \n",
              "0         NaN            NaN         Sep  \n",
              "1   TV Dramas   TV Mysteries         Sep  "
            ],
            "text/html": [
              "\n",
              "  <div id=\"df-43503038-9c4a-4a0c-8061-15e14e46e68b\" class=\"colab-df-container\">\n",
              "    <div>\n",
              "<style scoped>\n",
              "    .dataframe tbody tr th:only-of-type {\n",
              "        vertical-align: middle;\n",
              "    }\n",
              "\n",
              "    .dataframe tbody tr th {\n",
              "        vertical-align: top;\n",
              "    }\n",
              "\n",
              "    .dataframe thead th {\n",
              "        text-align: right;\n",
              "    }\n",
              "</style>\n",
              "<table border=\"1\" class=\"dataframe\">\n",
              "  <thead>\n",
              "    <tr style=\"text-align: right;\">\n",
              "      <th></th>\n",
              "      <th>show_id</th>\n",
              "      <th>type</th>\n",
              "      <th>title</th>\n",
              "      <th>director</th>\n",
              "      <th>cast</th>\n",
              "      <th>country</th>\n",
              "      <th>date_added</th>\n",
              "      <th>release_year</th>\n",
              "      <th>rating</th>\n",
              "      <th>duration</th>\n",
              "      <th>listed_in</th>\n",
              "      <th>description</th>\n",
              "      <th>year_added</th>\n",
              "      <th>month_added</th>\n",
              "      <th>genres</th>\n",
              "      <th>Genre 1</th>\n",
              "      <th>Genre 2</th>\n",
              "      <th>Genre 3</th>\n",
              "      <th>month_final</th>\n",
              "    </tr>\n",
              "  </thead>\n",
              "  <tbody>\n",
              "    <tr>\n",
              "      <th>0</th>\n",
              "      <td>s1</td>\n",
              "      <td>Movie</td>\n",
              "      <td>Dick Johnson Is Dead</td>\n",
              "      <td>Kirsten Johnson</td>\n",
              "      <td>NaN</td>\n",
              "      <td>United States</td>\n",
              "      <td>2021-09-25</td>\n",
              "      <td>2020.0</td>\n",
              "      <td>PG-13</td>\n",
              "      <td>90 min</td>\n",
              "      <td>Documentaries</td>\n",
              "      <td>As her father nears the end of his life, filmm...</td>\n",
              "      <td>2021.0</td>\n",
              "      <td>9.0</td>\n",
              "      <td>(Documentaries,)</td>\n",
              "      <td>Documentaries</td>\n",
              "      <td>NaN</td>\n",
              "      <td>NaN</td>\n",
              "      <td>Sep</td>\n",
              "    </tr>\n",
              "    <tr>\n",
              "      <th>1</th>\n",
              "      <td>s2</td>\n",
              "      <td>TV Show</td>\n",
              "      <td>Blood &amp; Water</td>\n",
              "      <td>NaN</td>\n",
              "      <td>Ama Qamata, Khosi Ngema, Gail Mabalane, Thaban...</td>\n",
              "      <td>South Africa</td>\n",
              "      <td>2021-09-24</td>\n",
              "      <td>2021.0</td>\n",
              "      <td>TV-MA</td>\n",
              "      <td>2 Seasons</td>\n",
              "      <td>International TV Shows, TV Dramas, TV Mysteries</td>\n",
              "      <td>After crossing paths at a party, a Cape Town t...</td>\n",
              "      <td>2021.0</td>\n",
              "      <td>9.0</td>\n",
              "      <td>(International TV Shows, TV Dramas, TV Mysteries)</td>\n",
              "      <td>International TV Shows</td>\n",
              "      <td>TV Dramas</td>\n",
              "      <td>TV Mysteries</td>\n",
              "      <td>Sep</td>\n",
              "    </tr>\n",
              "  </tbody>\n",
              "</table>\n",
              "</div>\n",
              "    <div class=\"colab-df-buttons\">\n",
              "\n",
              "  <div class=\"colab-df-container\">\n",
              "    <button class=\"colab-df-convert\" onclick=\"convertToInteractive('df-43503038-9c4a-4a0c-8061-15e14e46e68b')\"\n",
              "            title=\"Convert this dataframe to an interactive table.\"\n",
              "            style=\"display:none;\">\n",
              "\n",
              "  <svg xmlns=\"http://www.w3.org/2000/svg\" height=\"24px\" viewBox=\"0 -960 960 960\">\n",
              "    <path d=\"M120-120v-720h720v720H120Zm60-500h600v-160H180v160Zm220 220h160v-160H400v160Zm0 220h160v-160H400v160ZM180-400h160v-160H180v160Zm440 0h160v-160H620v160ZM180-180h160v-160H180v160Zm440 0h160v-160H620v160Z\"/>\n",
              "  </svg>\n",
              "    </button>\n",
              "\n",
              "  <style>\n",
              "    .colab-df-container {\n",
              "      display:flex;\n",
              "      gap: 12px;\n",
              "    }\n",
              "\n",
              "    .colab-df-convert {\n",
              "      background-color: #E8F0FE;\n",
              "      border: none;\n",
              "      border-radius: 50%;\n",
              "      cursor: pointer;\n",
              "      display: none;\n",
              "      fill: #1967D2;\n",
              "      height: 32px;\n",
              "      padding: 0 0 0 0;\n",
              "      width: 32px;\n",
              "    }\n",
              "\n",
              "    .colab-df-convert:hover {\n",
              "      background-color: #E2EBFA;\n",
              "      box-shadow: 0px 1px 2px rgba(60, 64, 67, 0.3), 0px 1px 3px 1px rgba(60, 64, 67, 0.15);\n",
              "      fill: #174EA6;\n",
              "    }\n",
              "\n",
              "    .colab-df-buttons div {\n",
              "      margin-bottom: 4px;\n",
              "    }\n",
              "\n",
              "    [theme=dark] .colab-df-convert {\n",
              "      background-color: #3B4455;\n",
              "      fill: #D2E3FC;\n",
              "    }\n",
              "\n",
              "    [theme=dark] .colab-df-convert:hover {\n",
              "      background-color: #434B5C;\n",
              "      box-shadow: 0px 1px 3px 1px rgba(0, 0, 0, 0.15);\n",
              "      filter: drop-shadow(0px 1px 2px rgba(0, 0, 0, 0.3));\n",
              "      fill: #FFFFFF;\n",
              "    }\n",
              "  </style>\n",
              "\n",
              "    <script>\n",
              "      const buttonEl =\n",
              "        document.querySelector('#df-43503038-9c4a-4a0c-8061-15e14e46e68b button.colab-df-convert');\n",
              "      buttonEl.style.display =\n",
              "        google.colab.kernel.accessAllowed ? 'block' : 'none';\n",
              "\n",
              "      async function convertToInteractive(key) {\n",
              "        const element = document.querySelector('#df-43503038-9c4a-4a0c-8061-15e14e46e68b');\n",
              "        const dataTable =\n",
              "          await google.colab.kernel.invokeFunction('convertToInteractive',\n",
              "                                                    [key], {});\n",
              "        if (!dataTable) return;\n",
              "\n",
              "        const docLinkHtml = 'Like what you see? Visit the ' +\n",
              "          '<a target=\"_blank\" href=https://colab.research.google.com/notebooks/data_table.ipynb>data table notebook</a>'\n",
              "          + ' to learn more about interactive tables.';\n",
              "        element.innerHTML = '';\n",
              "        dataTable['output_type'] = 'display_data';\n",
              "        await google.colab.output.renderOutput(dataTable, element);\n",
              "        const docLink = document.createElement('div');\n",
              "        docLink.innerHTML = docLinkHtml;\n",
              "        element.appendChild(docLink);\n",
              "      }\n",
              "    </script>\n",
              "  </div>\n",
              "\n",
              "\n",
              "<div id=\"df-adee553b-edaf-4026-9e97-7e2ca7141df5\">\n",
              "  <button class=\"colab-df-quickchart\" onclick=\"quickchart('df-adee553b-edaf-4026-9e97-7e2ca7141df5')\"\n",
              "            title=\"Suggest charts\"\n",
              "            style=\"display:none;\">\n",
              "\n",
              "<svg xmlns=\"http://www.w3.org/2000/svg\" height=\"24px\"viewBox=\"0 0 24 24\"\n",
              "     width=\"24px\">\n",
              "    <g>\n",
              "        <path d=\"M19 3H5c-1.1 0-2 .9-2 2v14c0 1.1.9 2 2 2h14c1.1 0 2-.9 2-2V5c0-1.1-.9-2-2-2zM9 17H7v-7h2v7zm4 0h-2V7h2v10zm4 0h-2v-4h2v4z\"/>\n",
              "    </g>\n",
              "</svg>\n",
              "  </button>\n",
              "\n",
              "<style>\n",
              "  .colab-df-quickchart {\n",
              "      --bg-color: #E8F0FE;\n",
              "      --fill-color: #1967D2;\n",
              "      --hover-bg-color: #E2EBFA;\n",
              "      --hover-fill-color: #174EA6;\n",
              "      --disabled-fill-color: #AAA;\n",
              "      --disabled-bg-color: #DDD;\n",
              "  }\n",
              "\n",
              "  [theme=dark] .colab-df-quickchart {\n",
              "      --bg-color: #3B4455;\n",
              "      --fill-color: #D2E3FC;\n",
              "      --hover-bg-color: #434B5C;\n",
              "      --hover-fill-color: #FFFFFF;\n",
              "      --disabled-bg-color: #3B4455;\n",
              "      --disabled-fill-color: #666;\n",
              "  }\n",
              "\n",
              "  .colab-df-quickchart {\n",
              "    background-color: var(--bg-color);\n",
              "    border: none;\n",
              "    border-radius: 50%;\n",
              "    cursor: pointer;\n",
              "    display: none;\n",
              "    fill: var(--fill-color);\n",
              "    height: 32px;\n",
              "    padding: 0;\n",
              "    width: 32px;\n",
              "  }\n",
              "\n",
              "  .colab-df-quickchart:hover {\n",
              "    background-color: var(--hover-bg-color);\n",
              "    box-shadow: 0 1px 2px rgba(60, 64, 67, 0.3), 0 1px 3px 1px rgba(60, 64, 67, 0.15);\n",
              "    fill: var(--button-hover-fill-color);\n",
              "  }\n",
              "\n",
              "  .colab-df-quickchart-complete:disabled,\n",
              "  .colab-df-quickchart-complete:disabled:hover {\n",
              "    background-color: var(--disabled-bg-color);\n",
              "    fill: var(--disabled-fill-color);\n",
              "    box-shadow: none;\n",
              "  }\n",
              "\n",
              "  .colab-df-spinner {\n",
              "    border: 2px solid var(--fill-color);\n",
              "    border-color: transparent;\n",
              "    border-bottom-color: var(--fill-color);\n",
              "    animation:\n",
              "      spin 1s steps(1) infinite;\n",
              "  }\n",
              "\n",
              "  @keyframes spin {\n",
              "    0% {\n",
              "      border-color: transparent;\n",
              "      border-bottom-color: var(--fill-color);\n",
              "      border-left-color: var(--fill-color);\n",
              "    }\n",
              "    20% {\n",
              "      border-color: transparent;\n",
              "      border-left-color: var(--fill-color);\n",
              "      border-top-color: var(--fill-color);\n",
              "    }\n",
              "    30% {\n",
              "      border-color: transparent;\n",
              "      border-left-color: var(--fill-color);\n",
              "      border-top-color: var(--fill-color);\n",
              "      border-right-color: var(--fill-color);\n",
              "    }\n",
              "    40% {\n",
              "      border-color: transparent;\n",
              "      border-right-color: var(--fill-color);\n",
              "      border-top-color: var(--fill-color);\n",
              "    }\n",
              "    60% {\n",
              "      border-color: transparent;\n",
              "      border-right-color: var(--fill-color);\n",
              "    }\n",
              "    80% {\n",
              "      border-color: transparent;\n",
              "      border-right-color: var(--fill-color);\n",
              "      border-bottom-color: var(--fill-color);\n",
              "    }\n",
              "    90% {\n",
              "      border-color: transparent;\n",
              "      border-bottom-color: var(--fill-color);\n",
              "    }\n",
              "  }\n",
              "</style>\n",
              "\n",
              "  <script>\n",
              "    async function quickchart(key) {\n",
              "      const quickchartButtonEl =\n",
              "        document.querySelector('#' + key + ' button');\n",
              "      quickchartButtonEl.disabled = true;  // To prevent multiple clicks.\n",
              "      quickchartButtonEl.classList.add('colab-df-spinner');\n",
              "      try {\n",
              "        const charts = await google.colab.kernel.invokeFunction(\n",
              "            'suggestCharts', [key], {});\n",
              "      } catch (error) {\n",
              "        console.error('Error during call to suggestCharts:', error);\n",
              "      }\n",
              "      quickchartButtonEl.classList.remove('colab-df-spinner');\n",
              "      quickchartButtonEl.classList.add('colab-df-quickchart-complete');\n",
              "    }\n",
              "    (() => {\n",
              "      let quickchartButtonEl =\n",
              "        document.querySelector('#df-adee553b-edaf-4026-9e97-7e2ca7141df5 button');\n",
              "      quickchartButtonEl.style.display =\n",
              "        google.colab.kernel.accessAllowed ? 'block' : 'none';\n",
              "    })();\n",
              "  </script>\n",
              "</div>\n",
              "\n",
              "    </div>\n",
              "  </div>\n"
            ],
            "application/vnd.google.colaboratory.intrinsic+json": {
              "type": "dataframe",
              "variable_name": "netflix",
              "summary": "{\n  \"name\": \"netflix\",\n  \"rows\": 8090,\n  \"fields\": [\n    {\n      \"column\": \"show_id\",\n      \"properties\": {\n        \"dtype\": \"string\",\n        \"num_unique_values\": 8090,\n        \"samples\": [\n          \"s4435\",\n          \"s4406\",\n          \"s2099\"\n        ],\n        \"semantic_type\": \"\",\n        \"description\": \"\"\n      }\n    },\n    {\n      \"column\": \"type\",\n      \"properties\": {\n        \"dtype\": \"category\",\n        \"num_unique_values\": 2,\n        \"samples\": [\n          \"TV Show\",\n          \"Movie\"\n        ],\n        \"semantic_type\": \"\",\n        \"description\": \"\"\n      }\n    },\n    {\n      \"column\": \"title\",\n      \"properties\": {\n        \"dtype\": \"string\",\n        \"num_unique_values\": 8087,\n        \"samples\": [\n          \"Sunrise\",\n          \"La Gran Ilusi\\u00c3\\u00b3n\"\n        ],\n        \"semantic_type\": \"\",\n        \"description\": \"\"\n      }\n    },\n    {\n      \"column\": \"director\",\n      \"properties\": {\n        \"dtype\": \"string\",\n        \"num_unique_values\": 4200,\n        \"samples\": [\n          \"Naoto Amazutsumi\",\n          \"Johanna Demetrakas\"\n        ],\n        \"semantic_type\": \"\",\n        \"description\": \"\"\n      }\n    },\n    {\n      \"column\": \"cast\",\n      \"properties\": {\n        \"dtype\": \"string\",\n        \"num_unique_values\": 7013,\n        \"samples\": [\n          \"Darren Wang, Zhang Tianai, Sheng Guansen, Simon Yam, Wang Xun, Zhao Jian, Xing Yu, Hu Bing, He Sui, Luxia Jiang\",\n          \"Luis Gerardo M\\u00c3\\u00a9ndez, Mariana Trevi\\u00c3\\u00b1o, Stephanie Cayo, Daniel Gim\\u00c3\\u00a9nez Cacho, Alosian Vivancos, Antonio de la Vega, Ianis Guerrero, Juan Pablo de Santiago, Joaqu\\u00c3\\u00adn Ferreira, Said Sandoval, Andr\\u00c3\\u00a9s Pardave, Sof\\u00c3\\u00ada Ni\\u00c3\\u00b1o de Rivera, Eileen Ya\\u00c3\\u00b1ez, Gutemberg Brito, Claudia Vega, Ver\\u00c3\\u00b3nica Ter\\u00c3\\u00a1n, Jes\\u00c3\\u00bas Zavala, Gustavo Ganem, Ricardo Polanco, Emilio Guerrero, Luis R\\u00c3\\u00a1bago, Guillermo Dorantes, Richie Mestre, Sof\\u00c3\\u00ada Sisniega, Aldo Escalante, Juan Luis Orendain, Marcela \\u00c3\\u0081lvarez\"\n        ],\n        \"semantic_type\": \"\",\n        \"description\": \"\"\n      }\n    },\n    {\n      \"column\": \"country\",\n      \"properties\": {\n        \"dtype\": \"category\",\n        \"num_unique_values\": 704,\n        \"samples\": [\n          \"United States, France, Japan\",\n          \"Vietnam\"\n        ],\n        \"semantic_type\": \"\",\n        \"description\": \"\"\n      }\n    },\n    {\n      \"column\": \"date_added\",\n      \"properties\": {\n        \"dtype\": \"date\",\n        \"min\": \"2008-01-01 00:00:00\",\n        \"max\": \"2024-04-05 00:00:00\",\n        \"num_unique_values\": 1687,\n        \"samples\": [\n          \"2020-09-17 00:00:00\",\n          \"2016-04-09 00:00:00\"\n        ],\n        \"semantic_type\": \"\",\n        \"description\": \"\"\n      }\n    },\n    {\n      \"column\": \"release_year\",\n      \"properties\": {\n        \"dtype\": \"number\",\n        \"std\": 3.786628767222701,\n        \"min\": 2004.0,\n        \"max\": 2024.0,\n        \"num_unique_values\": 19,\n        \"samples\": [\n          2020.0,\n          2017.0\n        ],\n        \"semantic_type\": \"\",\n        \"description\": \"\"\n      }\n    },\n    {\n      \"column\": \"rating\",\n      \"properties\": {\n        \"dtype\": \"category\",\n        \"num_unique_values\": 18,\n        \"samples\": [\n          \"PG-13\",\n          \"TV-MA\"\n        ],\n        \"semantic_type\": \"\",\n        \"description\": \"\"\n      }\n    },\n    {\n      \"column\": \"duration\",\n      \"properties\": {\n        \"dtype\": \"category\",\n        \"num_unique_values\": 201,\n        \"samples\": [\n          \"159 min\",\n          \"111 min\"\n        ],\n        \"semantic_type\": \"\",\n        \"description\": \"\"\n      }\n    },\n    {\n      \"column\": \"listed_in\",\n      \"properties\": {\n        \"dtype\": \"category\",\n        \"num_unique_values\": 466,\n        \"samples\": [\n          \"Children & Family Movies, Dramas\",\n          \"Crime TV Shows, TV Action & Adventure, TV Comedies\"\n        ],\n        \"semantic_type\": \"\",\n        \"description\": \"\"\n      }\n    },\n    {\n      \"column\": \"description\",\n      \"properties\": {\n        \"dtype\": \"string\",\n        \"num_unique_values\": 8062,\n        \"samples\": [\n          \"A young gay man with cerebral palsy branches out from his insular existence in hopes of finally going after the life he wants.\",\n          \"Amid the turmoil of China's civil war, families of Kuomintang pilots face the pain of leaving their homes but find strength in their shared bonds.\"\n        ],\n        \"semantic_type\": \"\",\n        \"description\": \"\"\n      }\n    },\n    {\n      \"column\": \"year_added\",\n      \"properties\": {\n        \"dtype\": \"number\",\n        \"std\": 1.5469966093009722,\n        \"min\": 2008.0,\n        \"max\": 2024.0,\n        \"num_unique_values\": 14,\n        \"samples\": [\n          2012.0,\n          2009.0\n        ],\n        \"semantic_type\": \"\",\n        \"description\": \"\"\n      }\n    },\n    {\n      \"column\": \"month_added\",\n      \"properties\": {\n        \"dtype\": \"number\",\n        \"std\": 3.4087205604863695,\n        \"min\": 1.0,\n        \"max\": 12.0,\n        \"num_unique_values\": 12,\n        \"samples\": [\n          11.0,\n          12.0\n        ],\n        \"semantic_type\": \"\",\n        \"description\": \"\"\n      }\n    },\n    {\n      \"column\": \"genres\",\n      \"properties\": {\n        \"dtype\": \"category\",\n        \"num_unique_values\": 466,\n        \"samples\": [\n          [\n            \"Children & Family Movies\",\n            \"Dramas\"\n          ],\n          [\n            \"Crime TV Shows\",\n            \"TV Action & Adventure\",\n            \"TV Comedies\"\n          ]\n        ],\n        \"semantic_type\": \"\",\n        \"description\": \"\"\n      }\n    },\n    {\n      \"column\": \"Genre 1\",\n      \"properties\": {\n        \"dtype\": \"category\",\n        \"num_unique_values\": 38,\n        \"samples\": [\n          \"Classic Movies\",\n          \"Sci-fi\"\n        ],\n        \"semantic_type\": \"\",\n        \"description\": \"\"\n      }\n    },\n    {\n      \"column\": \"Genre 2\",\n      \"properties\": {\n        \"dtype\": \"category\",\n        \"num_unique_values\": 38,\n        \"samples\": [\n          \" TV Thrillers\",\n          \" Horror\"\n        ],\n        \"semantic_type\": \"\",\n        \"description\": \"\"\n      }\n    },\n    {\n      \"column\": \"Genre 3\",\n      \"properties\": {\n        \"dtype\": \"category\",\n        \"num_unique_values\": 33,\n        \"samples\": [\n          \" Action\",\n          \" Teen TV Shows\"\n        ],\n        \"semantic_type\": \"\",\n        \"description\": \"\"\n      }\n    },\n    {\n      \"column\": \"month_final\",\n      \"properties\": {\n        \"dtype\": \"category\",\n        \"num_unique_values\": 12,\n        \"samples\": [\n          \"Nov\",\n          \"Dec\"\n        ],\n        \"semantic_type\": \"\",\n        \"description\": \"\"\n      }\n    }\n  ]\n}"
            }
          },
          "metadata": {},
          "execution_count": 123
        }
      ]
    },
    {
      "cell_type": "code",
      "source": [
        "netflix.month_final.value_counts().to_frame('Value_count')\n"
      ],
      "metadata": {
        "colab": {
          "base_uri": "https://localhost:8080/",
          "height": 457
        },
        "id": "Kpq8eenth1XB",
        "outputId": "ace3c78c-8c8c-46d0-e0c6-de0122afa9ee"
      },
      "execution_count": null,
      "outputs": [
        {
          "output_type": "execute_result",
          "data": {
            "text/plain": [
              "             Value_count\n",
              "month_final             \n",
              "July                 767\n",
              "Dec                  724\n",
              "Apr                  714\n",
              "Sep                  693\n",
              "Mar                  692\n",
              "Oct                  691\n",
              "Aug                  675\n",
              "June                 670\n",
              "Jan                  618\n",
              "Nov                  618\n",
              "May                  594\n",
              "Feb                  544"
            ],
            "text/html": [
              "\n",
              "  <div id=\"df-63e0e290-b2c7-442f-a343-274dfb47b8c4\" class=\"colab-df-container\">\n",
              "    <div>\n",
              "<style scoped>\n",
              "    .dataframe tbody tr th:only-of-type {\n",
              "        vertical-align: middle;\n",
              "    }\n",
              "\n",
              "    .dataframe tbody tr th {\n",
              "        vertical-align: top;\n",
              "    }\n",
              "\n",
              "    .dataframe thead th {\n",
              "        text-align: right;\n",
              "    }\n",
              "</style>\n",
              "<table border=\"1\" class=\"dataframe\">\n",
              "  <thead>\n",
              "    <tr style=\"text-align: right;\">\n",
              "      <th></th>\n",
              "      <th>Value_count</th>\n",
              "    </tr>\n",
              "    <tr>\n",
              "      <th>month_final</th>\n",
              "      <th></th>\n",
              "    </tr>\n",
              "  </thead>\n",
              "  <tbody>\n",
              "    <tr>\n",
              "      <th>July</th>\n",
              "      <td>767</td>\n",
              "    </tr>\n",
              "    <tr>\n",
              "      <th>Dec</th>\n",
              "      <td>724</td>\n",
              "    </tr>\n",
              "    <tr>\n",
              "      <th>Apr</th>\n",
              "      <td>714</td>\n",
              "    </tr>\n",
              "    <tr>\n",
              "      <th>Sep</th>\n",
              "      <td>693</td>\n",
              "    </tr>\n",
              "    <tr>\n",
              "      <th>Mar</th>\n",
              "      <td>692</td>\n",
              "    </tr>\n",
              "    <tr>\n",
              "      <th>Oct</th>\n",
              "      <td>691</td>\n",
              "    </tr>\n",
              "    <tr>\n",
              "      <th>Aug</th>\n",
              "      <td>675</td>\n",
              "    </tr>\n",
              "    <tr>\n",
              "      <th>June</th>\n",
              "      <td>670</td>\n",
              "    </tr>\n",
              "    <tr>\n",
              "      <th>Jan</th>\n",
              "      <td>618</td>\n",
              "    </tr>\n",
              "    <tr>\n",
              "      <th>Nov</th>\n",
              "      <td>618</td>\n",
              "    </tr>\n",
              "    <tr>\n",
              "      <th>May</th>\n",
              "      <td>594</td>\n",
              "    </tr>\n",
              "    <tr>\n",
              "      <th>Feb</th>\n",
              "      <td>544</td>\n",
              "    </tr>\n",
              "  </tbody>\n",
              "</table>\n",
              "</div>\n",
              "    <div class=\"colab-df-buttons\">\n",
              "\n",
              "  <div class=\"colab-df-container\">\n",
              "    <button class=\"colab-df-convert\" onclick=\"convertToInteractive('df-63e0e290-b2c7-442f-a343-274dfb47b8c4')\"\n",
              "            title=\"Convert this dataframe to an interactive table.\"\n",
              "            style=\"display:none;\">\n",
              "\n",
              "  <svg xmlns=\"http://www.w3.org/2000/svg\" height=\"24px\" viewBox=\"0 -960 960 960\">\n",
              "    <path d=\"M120-120v-720h720v720H120Zm60-500h600v-160H180v160Zm220 220h160v-160H400v160Zm0 220h160v-160H400v160ZM180-400h160v-160H180v160Zm440 0h160v-160H620v160ZM180-180h160v-160H180v160Zm440 0h160v-160H620v160Z\"/>\n",
              "  </svg>\n",
              "    </button>\n",
              "\n",
              "  <style>\n",
              "    .colab-df-container {\n",
              "      display:flex;\n",
              "      gap: 12px;\n",
              "    }\n",
              "\n",
              "    .colab-df-convert {\n",
              "      background-color: #E8F0FE;\n",
              "      border: none;\n",
              "      border-radius: 50%;\n",
              "      cursor: pointer;\n",
              "      display: none;\n",
              "      fill: #1967D2;\n",
              "      height: 32px;\n",
              "      padding: 0 0 0 0;\n",
              "      width: 32px;\n",
              "    }\n",
              "\n",
              "    .colab-df-convert:hover {\n",
              "      background-color: #E2EBFA;\n",
              "      box-shadow: 0px 1px 2px rgba(60, 64, 67, 0.3), 0px 1px 3px 1px rgba(60, 64, 67, 0.15);\n",
              "      fill: #174EA6;\n",
              "    }\n",
              "\n",
              "    .colab-df-buttons div {\n",
              "      margin-bottom: 4px;\n",
              "    }\n",
              "\n",
              "    [theme=dark] .colab-df-convert {\n",
              "      background-color: #3B4455;\n",
              "      fill: #D2E3FC;\n",
              "    }\n",
              "\n",
              "    [theme=dark] .colab-df-convert:hover {\n",
              "      background-color: #434B5C;\n",
              "      box-shadow: 0px 1px 3px 1px rgba(0, 0, 0, 0.15);\n",
              "      filter: drop-shadow(0px 1px 2px rgba(0, 0, 0, 0.3));\n",
              "      fill: #FFFFFF;\n",
              "    }\n",
              "  </style>\n",
              "\n",
              "    <script>\n",
              "      const buttonEl =\n",
              "        document.querySelector('#df-63e0e290-b2c7-442f-a343-274dfb47b8c4 button.colab-df-convert');\n",
              "      buttonEl.style.display =\n",
              "        google.colab.kernel.accessAllowed ? 'block' : 'none';\n",
              "\n",
              "      async function convertToInteractive(key) {\n",
              "        const element = document.querySelector('#df-63e0e290-b2c7-442f-a343-274dfb47b8c4');\n",
              "        const dataTable =\n",
              "          await google.colab.kernel.invokeFunction('convertToInteractive',\n",
              "                                                    [key], {});\n",
              "        if (!dataTable) return;\n",
              "\n",
              "        const docLinkHtml = 'Like what you see? Visit the ' +\n",
              "          '<a target=\"_blank\" href=https://colab.research.google.com/notebooks/data_table.ipynb>data table notebook</a>'\n",
              "          + ' to learn more about interactive tables.';\n",
              "        element.innerHTML = '';\n",
              "        dataTable['output_type'] = 'display_data';\n",
              "        await google.colab.output.renderOutput(dataTable, element);\n",
              "        const docLink = document.createElement('div');\n",
              "        docLink.innerHTML = docLinkHtml;\n",
              "        element.appendChild(docLink);\n",
              "      }\n",
              "    </script>\n",
              "  </div>\n",
              "\n",
              "\n",
              "<div id=\"df-564d2ab9-b26c-4c1d-8122-ae7c36aa2a22\">\n",
              "  <button class=\"colab-df-quickchart\" onclick=\"quickchart('df-564d2ab9-b26c-4c1d-8122-ae7c36aa2a22')\"\n",
              "            title=\"Suggest charts\"\n",
              "            style=\"display:none;\">\n",
              "\n",
              "<svg xmlns=\"http://www.w3.org/2000/svg\" height=\"24px\"viewBox=\"0 0 24 24\"\n",
              "     width=\"24px\">\n",
              "    <g>\n",
              "        <path d=\"M19 3H5c-1.1 0-2 .9-2 2v14c0 1.1.9 2 2 2h14c1.1 0 2-.9 2-2V5c0-1.1-.9-2-2-2zM9 17H7v-7h2v7zm4 0h-2V7h2v10zm4 0h-2v-4h2v4z\"/>\n",
              "    </g>\n",
              "</svg>\n",
              "  </button>\n",
              "\n",
              "<style>\n",
              "  .colab-df-quickchart {\n",
              "      --bg-color: #E8F0FE;\n",
              "      --fill-color: #1967D2;\n",
              "      --hover-bg-color: #E2EBFA;\n",
              "      --hover-fill-color: #174EA6;\n",
              "      --disabled-fill-color: #AAA;\n",
              "      --disabled-bg-color: #DDD;\n",
              "  }\n",
              "\n",
              "  [theme=dark] .colab-df-quickchart {\n",
              "      --bg-color: #3B4455;\n",
              "      --fill-color: #D2E3FC;\n",
              "      --hover-bg-color: #434B5C;\n",
              "      --hover-fill-color: #FFFFFF;\n",
              "      --disabled-bg-color: #3B4455;\n",
              "      --disabled-fill-color: #666;\n",
              "  }\n",
              "\n",
              "  .colab-df-quickchart {\n",
              "    background-color: var(--bg-color);\n",
              "    border: none;\n",
              "    border-radius: 50%;\n",
              "    cursor: pointer;\n",
              "    display: none;\n",
              "    fill: var(--fill-color);\n",
              "    height: 32px;\n",
              "    padding: 0;\n",
              "    width: 32px;\n",
              "  }\n",
              "\n",
              "  .colab-df-quickchart:hover {\n",
              "    background-color: var(--hover-bg-color);\n",
              "    box-shadow: 0 1px 2px rgba(60, 64, 67, 0.3), 0 1px 3px 1px rgba(60, 64, 67, 0.15);\n",
              "    fill: var(--button-hover-fill-color);\n",
              "  }\n",
              "\n",
              "  .colab-df-quickchart-complete:disabled,\n",
              "  .colab-df-quickchart-complete:disabled:hover {\n",
              "    background-color: var(--disabled-bg-color);\n",
              "    fill: var(--disabled-fill-color);\n",
              "    box-shadow: none;\n",
              "  }\n",
              "\n",
              "  .colab-df-spinner {\n",
              "    border: 2px solid var(--fill-color);\n",
              "    border-color: transparent;\n",
              "    border-bottom-color: var(--fill-color);\n",
              "    animation:\n",
              "      spin 1s steps(1) infinite;\n",
              "  }\n",
              "\n",
              "  @keyframes spin {\n",
              "    0% {\n",
              "      border-color: transparent;\n",
              "      border-bottom-color: var(--fill-color);\n",
              "      border-left-color: var(--fill-color);\n",
              "    }\n",
              "    20% {\n",
              "      border-color: transparent;\n",
              "      border-left-color: var(--fill-color);\n",
              "      border-top-color: var(--fill-color);\n",
              "    }\n",
              "    30% {\n",
              "      border-color: transparent;\n",
              "      border-left-color: var(--fill-color);\n",
              "      border-top-color: var(--fill-color);\n",
              "      border-right-color: var(--fill-color);\n",
              "    }\n",
              "    40% {\n",
              "      border-color: transparent;\n",
              "      border-right-color: var(--fill-color);\n",
              "      border-top-color: var(--fill-color);\n",
              "    }\n",
              "    60% {\n",
              "      border-color: transparent;\n",
              "      border-right-color: var(--fill-color);\n",
              "    }\n",
              "    80% {\n",
              "      border-color: transparent;\n",
              "      border-right-color: var(--fill-color);\n",
              "      border-bottom-color: var(--fill-color);\n",
              "    }\n",
              "    90% {\n",
              "      border-color: transparent;\n",
              "      border-bottom-color: var(--fill-color);\n",
              "    }\n",
              "  }\n",
              "</style>\n",
              "\n",
              "  <script>\n",
              "    async function quickchart(key) {\n",
              "      const quickchartButtonEl =\n",
              "        document.querySelector('#' + key + ' button');\n",
              "      quickchartButtonEl.disabled = true;  // To prevent multiple clicks.\n",
              "      quickchartButtonEl.classList.add('colab-df-spinner');\n",
              "      try {\n",
              "        const charts = await google.colab.kernel.invokeFunction(\n",
              "            'suggestCharts', [key], {});\n",
              "      } catch (error) {\n",
              "        console.error('Error during call to suggestCharts:', error);\n",
              "      }\n",
              "      quickchartButtonEl.classList.remove('colab-df-spinner');\n",
              "      quickchartButtonEl.classList.add('colab-df-quickchart-complete');\n",
              "    }\n",
              "    (() => {\n",
              "      let quickchartButtonEl =\n",
              "        document.querySelector('#df-564d2ab9-b26c-4c1d-8122-ae7c36aa2a22 button');\n",
              "      quickchartButtonEl.style.display =\n",
              "        google.colab.kernel.accessAllowed ? 'block' : 'none';\n",
              "    })();\n",
              "  </script>\n",
              "</div>\n",
              "\n",
              "    </div>\n",
              "  </div>\n"
            ],
            "application/vnd.google.colaboratory.intrinsic+json": {
              "type": "dataframe",
              "summary": "{\n  \"name\": \"netflix\",\n  \"rows\": 12,\n  \"fields\": [\n    {\n      \"column\": \"month_final\",\n      \"properties\": {\n        \"dtype\": \"string\",\n        \"num_unique_values\": 12,\n        \"samples\": [\n          \"May\",\n          \"Nov\",\n          \"July\"\n        ],\n        \"semantic_type\": \"\",\n        \"description\": \"\"\n      }\n    },\n    {\n      \"column\": \"Value_count\",\n      \"properties\": {\n        \"dtype\": \"number\",\n        \"std\": 62,\n        \"min\": 544,\n        \"max\": 767,\n        \"num_unique_values\": 11,\n        \"samples\": [\n          691,\n          767,\n          594\n        ],\n        \"semantic_type\": \"\",\n        \"description\": \"\"\n      }\n    }\n  ]\n}"
            }
          },
          "metadata": {},
          "execution_count": 124
        }
      ]
    },
    {
      "cell_type": "code",
      "source": [
        "sns.countplot(x=netflix['month_final'],orient='v')\n",
        "plt.xticks(rotation=90)"
      ],
      "metadata": {
        "colab": {
          "base_uri": "https://localhost:8080/",
          "height": 695
        },
        "id": "UfMChYOih7vU",
        "outputId": "e3ca28a0-7713-4f4b-8909-df786be506ef"
      },
      "execution_count": null,
      "outputs": [
        {
          "output_type": "execute_result",
          "data": {
            "text/plain": [
              "([0, 1, 2, 3, 4, 5, 6, 7, 8, 9, 10, 11],\n",
              " [Text(0, 0, 'Sep'),\n",
              "  Text(1, 0, 'Aug'),\n",
              "  Text(2, 0, 'July'),\n",
              "  Text(3, 0, 'June'),\n",
              "  Text(4, 0, 'May'),\n",
              "  Text(5, 0, 'Apr'),\n",
              "  Text(6, 0, 'Mar'),\n",
              "  Text(7, 0, 'Feb'),\n",
              "  Text(8, 0, 'Jan'),\n",
              "  Text(9, 0, 'Dec'),\n",
              "  Text(10, 0, 'Nov'),\n",
              "  Text(11, 0, 'Oct')])"
            ]
          },
          "metadata": {},
          "execution_count": 126
        },
        {
          "output_type": "display_data",
          "data": {
            "text/plain": [
              "<Figure size 640x480 with 1 Axes>"
            ],
            "image/png": "[encoded data removed]"
          },
          "metadata": {}
        }
      ]
    },
    {
      "cell_type": "markdown",
      "source": [
        "July is the best month to release movies"
      ],
      "metadata": {
        "id": "UT872cZRiDN9"
      }
    },
    {
      "cell_type": "markdown",
      "source": [
        "Categorical VS Categorical Analysis(BIVARIATE ANALYSIS)"
      ],
      "metadata": {
        "id": "5gos0WySkFnz"
      }
    },
    {
      "cell_type": "code",
      "source": [
        "# Create a contingency table to see the relationship between 'Type' and 'Rating'\n",
        "type_rating_crosstab = pd.crosstab(netflix['type'], netflix['rating'])\n",
        "\n",
        "# Display the contingency table\n",
        "print(type_rating_crosstab)"
      ],
      "metadata": {
        "colab": {
          "base_uri": "https://localhost:8080/"
        },
        "id": "sCVKaVOHkLTD",
        "outputId": "badb0e7c-847b-4732-b1fe-8001cf4a1f2b"
      },
      "execution_count": null,
      "outputs": [
        {
          "output_type": "stream",
          "name": "stdout",
          "text": [
            "rating   66 min  74 min  84 min  A   G  NC-17  NR   PG  PG-13    R  TV-14  \\\n",
            "type                                                                        \n",
            "Movie         1       1       1  1  21      3  68  222    379  636   1278   \n",
            "TV Show       0       0       0  0   0      0   5    0      0    2    708   \n",
            "\n",
            "rating   TV-G  TV-MA  TV-PG  TV-Y  TV-Y7  TV-Y7-FV  UR  \n",
            "type                                                    \n",
            "Movie     122   1988    490   130    138         5   2  \n",
            "TV Show    85   1138    307   174    180         1   0  \n"
          ]
        }
      ]
    },
    {
      "cell_type": "code",
      "source": [
        "plt.figure(figsize=(10, 6))\n",
        "sns.heatmap(type_rating_crosstab, annot=True, cmap=\"Blues\", fmt='g')\n",
        "\n",
        "# Add labels and title\n",
        "plt.title('Heatmap of Type vs Rating')\n",
        "plt.xlabel('Rating')\n",
        "plt.ylabel('Type')"
      ],
      "metadata": {
        "colab": {
          "base_uri": "https://localhost:8080/",
          "height": 627
        },
        "id": "PIjSVCwRi7iC",
        "outputId": "d7fa0355-5562-4d0c-cd06-95bb414f6e87"
      },
      "execution_count": null,
      "outputs": [
        {
          "output_type": "execute_result",
          "data": {
            "text/plain": [
              "Text(95.72222222222221, 0.5, 'Type')"
            ]
          },
          "metadata": {},
          "execution_count": 128
        },
        {
          "output_type": "display_data",
          "data": {
            "text/plain": [
              "<Figure size 1000x600 with 2 Axes>"
            ],
            "image/png": "[encoded data removed]"
          },
          "metadata": {}
        }
      ]
    },
    {
      "cell_type": "code",
      "source": [
        "netflix.duration.dropna()"
      ],
      "metadata": {
        "colab": {
          "base_uri": "https://localhost:8080/"
        },
        "id": "VGc6grKdrNcG",
        "outputId": "b38790de-6247-4770-a16f-1c72a81bb5f8"
      },
      "execution_count": null,
      "outputs": [
        {
          "output_type": "execute_result",
          "data": {
            "text/plain": [
              "3"
            ]
          },
          "metadata": {},
          "execution_count": 140
        }
      ]
    },
    {
      "cell_type": "code",
      "source": [
        "netflix.duration.unique()"
      ],
      "metadata": {
        "colab": {
          "base_uri": "https://localhost:8080/"
        },
        "id": "mzY9pdaUlwXf",
        "outputId": "c3d2ff23-41c2-49b6-f03c-08ba51ee930b"
      },
      "execution_count": null,
      "outputs": [
        {
          "output_type": "execute_result",
          "data": {
            "text/plain": [
              "array(['90 min', '2 Seasons', '1 Season', '91 min', '9 Seasons',\n",
              "       '104 min', '127 min', '4 Seasons', '67 min', '94 min', '5 Seasons',\n",
              "       '61 min', '103 min', '97 min', '106 min', '111 min', '3 Seasons',\n",
              "       '110 min', '105 min', '96 min', '23 min', '115 min', '88 min',\n",
              "       '6 Seasons', '102 min', '93 min', '95 min', '85 min', '83 min',\n",
              "       '113 min', '13 min', '182 min', '48 min', '145 min', '147 min',\n",
              "       '87 min', '92 min', '80 min', '117 min', '128 min', '119 min',\n",
              "       '114 min', '99 min', '108 min', '63 min', '121 min', '100 min',\n",
              "       '82 min', '124 min', '109 min', '118 min', '76 min', '98 min',\n",
              "       '120 min', '112 min', '86 min', '125 min', '107 min', '135 min',\n",
              "       '165 min', '136 min', '133 min', '142 min', '116 min', '70 min',\n",
              "       '122 min', '84 min', '140 min', '78 min', '7 Seasons', '64 min',\n",
              "       '59 min', '101 min', '139 min', '69 min', '148 min', '138 min',\n",
              "       '81 min', '143 min', '132 min', '10 Seasons', '123 min', '65 min',\n",
              "       '68 min', '66 min', '62 min', '74 min', '131 min', '39 min',\n",
              "       '46 min', '89 min', '38 min', '8 Seasons', '17 Seasons', '126 min',\n",
              "       '159 min', '137 min', '12 min', '273 min', '36 min', '34 min',\n",
              "       '77 min', '60 min', '49 min', '58 min', '72 min', '204 min',\n",
              "       '212 min', '25 min', '73 min', '29 min', '47 min', '32 min',\n",
              "       '35 min', '71 min', '149 min', '33 min', '15 min', '54 min',\n",
              "       '141 min', '162 min', '37 min', '75 min', '130 min', '79 min',\n",
              "       '55 min', '158 min', '164 min', '181 min', '185 min', '21 min',\n",
              "       '24 min', '51 min', '151 min', '42 min', '22 min', '177 min',\n",
              "       '134 min', '13 Seasons', '52 min', '161 min', '129 min', '14 min',\n",
              "       '53 min', '8 min', '57 min', '28 min', '50 min', '9 min', '26 min',\n",
              "       '45 min', '171 min', '150 min', '27 min', '44 min', '146 min',\n",
              "       '20 min', '157 min', '17 min', '203 min', '41 min', '30 min',\n",
              "       '166 min', '156 min', '15 Seasons', '152 min', '190 min',\n",
              "       '208 min', '180 min', '144 min', '5 min', '155 min', '192 min',\n",
              "       '160 min', '16 min', '186 min', '154 min', '11 min', '56 min',\n",
              "       '174 min', '169 min', '172 min', '209 min', '40 min', '10 min',\n",
              "       '176 min', '3 min', '168 min', '170 min', '312 min', '153 min',\n",
              "       '214 min', '19 min', '12 Seasons', nan, '179 min', '31 min',\n",
              "       '163 min', '43 min', '196 min', '173 min', '205 min'], dtype=object)"
            ]
          },
          "metadata": {},
          "execution_count": 136
        }
      ]
    },
    {
      "cell_type": "markdown",
      "source": [
        "here we can see seasons so we try to convert them to minutes for its numerical analysis"
      ],
      "metadata": {
        "id": "rtpUbYttplr5"
      }
    },
    {
      "cell_type": "code",
      "source": [
        "def convert_duration(row):\n",
        "  if isinstance(row['duration'], str):\n",
        "\n",
        "    if 'min' in row['duration']:\n",
        "        return int(row['duration'].replace(' min', ''))  # Movie duration\n",
        "    elif 'Seasons' in row['duration']:\n",
        "        # Assuming average episode duration is 30 minutes\n",
        "        average_episode_duration = 30\n",
        "        num_seasons = int(row['duration'].split()[0])  # Get the number of seasons\n",
        "        return num_seasons * 10 * average_episode_duration  # Assume 10 episodes per season\n",
        "    else:\n",
        "        return np.nan  # Handle any unexpected format\n",
        "  else:\n",
        "        return np.nan # Return NaN if duration is not a string\n",
        "\n",
        "netflix['numerical_duration'] = netflix.apply(convert_duration, axis=1)\n"
      ],
      "metadata": {
        "id": "prCnTPA2pwX9"
      },
      "execution_count": null,
      "outputs": []
    },
    {
      "cell_type": "code",
      "source": [
        "plt.figure(figsize=(10, 6))\n",
        "sns.boxplot(x='type', y='numerical_duration', data=netflix)\n",
        "\n",
        "# Step 3: Add titles and labels\n",
        "plt.title('Distribution of Duration by Type (Movie vs TV Show)')\n",
        "plt.xlabel('Type')\n",
        "plt.ylabel('Duration (minutes)')"
      ],
      "metadata": {
        "colab": {
          "base_uri": "https://localhost:8080/",
          "height": 636
        },
        "id": "uSLOZEMgsEi8",
        "outputId": "ba5f84cf-97c9-4bf6-fbec-d2fbcdba6c5d"
      },
      "execution_count": null,
      "outputs": [
        {
          "output_type": "stream",
          "name": "stderr",
          "text": [
            "/usr/local/lib/python3.10/dist-packages/seaborn/categorical.py:640: FutureWarning: SeriesGroupBy.grouper is deprecated and will be removed in a future version of pandas.\n",
            "  positions = grouped.grouper.result_index.to_numpy(dtype=float)\n"
          ]
        },
        {
          "output_type": "execute_result",
          "data": {
            "text/plain": [
              "Text(0, 0.5, 'Duration (minutes)')"
            ]
          },
          "metadata": {},
          "execution_count": 143
        },
        {
          "output_type": "display_data",
          "data": {
            "text/plain": [
              "<Figure size 1000x600 with 1 Axes>"
            ],
            "image/png": "[encoded data removed]"
          },
          "metadata": {}
        }
      ]
    },
    {
      "cell_type": "code",
      "source": [
        "\n",
        "plt.figure(figsize=(10, 6))\n",
        "sns.barplot(data=netflix, x='rating', y='numerical_duration', hue='type', ci=None)\n",
        "\n",
        "plt.title('Average Duration by Rating')\n",
        "plt.xlabel('Rating')\n",
        "plt.ylabel('Average Duration (minutes)')\n",
        "\n",
        "# Show the plot\n",
        "plt.xticks(rotation=45)\n",
        "plt.tight_layout()\n",
        "\n",
        "# Show the plot\n",
        "plt.show()"
      ],
      "metadata": {
        "colab": {
          "base_uri": "https://localhost:8080/",
          "height": 783
        },
        "id": "4nV4iAeAs1Sr",
        "outputId": "248807f0-ff4d-491d-fd54-b296f2a137cd"
      },
      "execution_count": null,
      "outputs": [
        {
          "output_type": "stream",
          "name": "stderr",
          "text": [
            "<ipython-input-148-953390e7addc>:2: FutureWarning: \n",
            "\n",
            "The `ci` parameter is deprecated. Use `errorbar=None` for the same effect.\n",
            "\n",
            "  sns.barplot(data=netflix, x='rating', y='numerical_duration', hue='type', ci=None)\n",
            "/usr/local/lib/python3.10/dist-packages/seaborn/_base.py:949: FutureWarning: When grouping with a length-1 list-like, you will need to pass a length-1 tuple to get_group in a future version of pandas. Pass `(name,)` instead of `name` to silence this warning.\n",
            "  data_subset = grouped_data.get_group(pd_key)\n",
            "/usr/local/lib/python3.10/dist-packages/seaborn/_base.py:949: FutureWarning: When grouping with a length-1 list-like, you will need to pass a length-1 tuple to get_group in a future version of pandas. Pass `(name,)` instead of `name` to silence this warning.\n",
            "  data_subset = grouped_data.get_group(pd_key)\n"
          ]
        },
        {
          "output_type": "display_data",
          "data": {
            "text/plain": [
              "<Figure size 1000x600 with 1 Axes>"
            ],
            "image/png": "[encoded data removed]"
          },
          "metadata": {}
        }
      ]
    },
    {
      "cell_type": "markdown",
      "source": [
        "Duration v/s Release Year"
      ],
      "metadata": {
        "id": "5Vr1rkFxt8vF"
      }
    },
    {
      "cell_type": "code",
      "source": [
        "plt.figure(figsize=(10, 6))\n",
        "sns.scatterplot(x='release_year', y='numerical_duration', data=netflix,hue='type')\n",
        "\n",
        "# Step 3: Add titles and labels\n",
        "plt.title('Duration vs Release Year')\n",
        "plt.xlabel('Release Year')\n",
        "plt.ylabel('Duration (minutes)')\n",
        "\n",
        "# Show the plot\n",
        "plt.show()"
      ],
      "metadata": {
        "colab": {
          "base_uri": "https://localhost:8080/",
          "height": 564
        },
        "id": "P3zeg4V0t5gI",
        "outputId": "77dabf42-9fe6-4511-db05-023a6756fce5"
      },
      "execution_count": null,
      "outputs": [
        {
          "output_type": "display_data",
          "data": {
            "text/plain": [
              "<Figure size 1000x600 with 1 Axes>"
            ],
            "image/png": "[encoded data removed]"
          },
          "metadata": {}
        }
      ]
    },
    {
      "cell_type": "markdown",
      "source": [
        "As expected duration of tv shows is higher"
      ],
      "metadata": {
        "id": "m9LylFj9vXKy"
      }
    },
    {
      "cell_type": "code",
      "source": [
        "netflix.groupby('type').numerical_duration.mean() #average mean by type"
      ],
      "metadata": {
        "colab": {
          "base_uri": "https://localhost:8080/",
          "height": 178
        },
        "id": "AQ69psoRuDG3",
        "outputId": "ebfc8d65-c7f5-4397-975e-24fa3d14c955"
      },
      "execution_count": null,
      "outputs": [
        {
          "output_type": "execute_result",
          "data": {
            "text/plain": [
              "type\n",
              "Movie       97.743118\n",
              "TV Show    968.823529\n",
              "Name: numerical_duration, dtype: float64"
            ],
            "text/html": [
              "<div>\n",
              "<style scoped>\n",
              "    .dataframe tbody tr th:only-of-type {\n",
              "        vertical-align: middle;\n",
              "    }\n",
              "\n",
              "    .dataframe tbody tr th {\n",
              "        vertical-align: top;\n",
              "    }\n",
              "\n",
              "    .dataframe thead th {\n",
              "        text-align: right;\n",
              "    }\n",
              "</style>\n",
              "<table border=\"1\" class=\"dataframe\">\n",
              "  <thead>\n",
              "    <tr style=\"text-align: right;\">\n",
              "      <th></th>\n",
              "      <th>numerical_duration</th>\n",
              "    </tr>\n",
              "    <tr>\n",
              "      <th>type</th>\n",
              "      <th></th>\n",
              "    </tr>\n",
              "  </thead>\n",
              "  <tbody>\n",
              "    <tr>\n",
              "      <th>Movie</th>\n",
              "      <td>97.743118</td>\n",
              "    </tr>\n",
              "    <tr>\n",
              "      <th>TV Show</th>\n",
              "      <td>968.823529</td>\n",
              "    </tr>\n",
              "  </tbody>\n",
              "</table>\n",
              "</div><br><label><b>dtype:</b> float64</label>"
            ]
          },
          "metadata": {},
          "execution_count": 150
        }
      ]
    },
    {
      "cell_type": "code",
      "source": [
        "major_movie_country=netflix['country'].value_counts()[netflix['country'].value_counts() > 50].sort_values(ascending=False)"
      ],
      "metadata": {
        "id": "oqnzLN2_wkaw"
      },
      "execution_count": null,
      "outputs": []
    },
    {
      "cell_type": "code",
      "source": [
        "plt.bar(x=major_movie_country.index,height=major_movie_country.values)\n",
        "plt.xticks(rotation=90)\n"
      ],
      "metadata": {
        "colab": {
          "base_uri": "https://localhost:8080/",
          "height": 1000
        },
        "collapsed": true,
        "id": "yMsN9lBpx5nS",
        "outputId": "46cd8ec1-2d0b-4606-9976-86b6c52e5fe5"
      },
      "execution_count": null,
      "outputs": [
        {
          "output_type": "execute_result",
          "data": {
            "text/plain": [
              "([0,\n",
              "  1,\n",
              "  2,\n",
              "  3,\n",
              "  4,\n",
              "  5,\n",
              "  6,\n",
              "  7,\n",
              "  8,\n",
              "  9,\n",
              "  10,\n",
              "  11,\n",
              "  12,\n",
              "  13,\n",
              "  14,\n",
              "  15,\n",
              "  16,\n",
              "  17,\n",
              "  18,\n",
              "  19,\n",
              "  20,\n",
              "  21,\n",
              "  22],\n",
              " [Text(0, 0, 'United States'),\n",
              "  Text(1, 0, 'India'),\n",
              "  Text(2, 0, 'United Kingdom'),\n",
              "  Text(3, 0, 'Japan'),\n",
              "  Text(4, 0, 'South Korea'),\n",
              "  Text(5, 0, 'Canada'),\n",
              "  Text(6, 0, 'Spain'),\n",
              "  Text(7, 0, 'France'),\n",
              "  Text(8, 0, 'Mexico'),\n",
              "  Text(9, 0, 'Turkey'),\n",
              "  Text(10, 0, 'Egypt'),\n",
              "  Text(11, 0, 'Nigeria'),\n",
              "  Text(12, 0, 'Australia'),\n",
              "  Text(13, 0, 'Taiwan'),\n",
              "  Text(14, 0, 'Indonesia'),\n",
              "  Text(15, 0, 'Brazil'),\n",
              "  Text(16, 0, 'Philippines'),\n",
              "  Text(17, 0, 'United States, Canada'),\n",
              "  Text(18, 0, 'Germany'),\n",
              "  Text(19, 0, 'China'),\n",
              "  Text(20, 0, 'United Kingdom, United States'),\n",
              "  Text(21, 0, 'Thailand'),\n",
              "  Text(22, 0, 'Argentina')])"
            ]
          },
          "metadata": {},
          "execution_count": 178
        },
        {
          "output_type": "display_data",
          "data": {
            "text/plain": [
              "<Figure size 640x480 with 1 Axes>"
            ],
            "image/png": "[encoded data removed]"
          },
          "metadata": {}
        }
      ]
    },
    {
      "cell_type": "markdown",
      "source": [
        "Majority of the movies and tv shows are produced by usa"
      ],
      "metadata": {
        "id": "oMXPmJAEz-aG"
      }
    }
  ]
}